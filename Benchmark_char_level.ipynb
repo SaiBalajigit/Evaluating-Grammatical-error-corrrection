{
  "nbformat": 4,
  "nbformat_minor": 5,
  "metadata": {
    "accelerator": "GPU",
    "colab": {
      "provenance": [],
      "machine_shape": "hm"
    },
    "kernelspec": {
      "display_name": "Python 3",
      "language": "python",
      "name": "python3"
    },
    "language_info": {
      "codemirror_mode": {
        "name": "ipython",
        "version": 3
      },
      "file_extension": ".py",
      "mimetype": "text/x-python",
      "name": "python",
      "nbconvert_exporter": "python",
      "pygments_lexer": "ipython3",
      "version": "3.7.6"
    }
  },
  "cells": [
    {
      "cell_type": "markdown",
      "metadata": {
        "id": "Zlq3fXZdRepY"
      },
      "source": [
        "# ENCODER DECODER MODEL FOR CHARACTER LEVEL EMBEDDING "
      ],
      "id": "Zlq3fXZdRepY"
    },
    {
      "cell_type": "code",
      "metadata": {
        "id": "a083ffd7"
      },
      "source": [
        "## LOADING THE REQUIRED LIBRARIES\n",
        "\n",
        "import pandas as pd\n",
        "import numpy as np\n",
        "import os\n",
        "import re\n",
        "import matplotlib.pyplot as plt\n",
        "import seaborn as sns\n",
        "import warnings \n",
        "warnings.filterwarnings('ignore')\n",
        "from tqdm import tqdm \n",
        "import tensorflow as tf\n",
        "from  tensorflow.keras.preprocessing.sequence import pad_sequences\n",
        "from  sklearn.model_selection import train_test_split"
      ],
      "id": "a083ffd7",
      "execution_count": null,
      "outputs": []
    },
    {
      "cell_type": "markdown",
      "metadata": {
        "id": "7345a1b8"
      },
      "source": [
        "## Loading Dataset"
      ],
      "id": "7345a1b8"
    },
    {
      "cell_type": "code",
      "metadata": {
        "colab": {
          "base_uri": "https://localhost:8080/"
        },
        "id": "47TEFxlLGkHY",
        "outputId": "718f480a-4bec-48f6-d29a-291966133614"
      },
      "source": [
        "from google.colab import drive\n",
        "drive.mount('/content/drive')"
      ],
      "id": "47TEFxlLGkHY",
      "execution_count": null,
      "outputs": [
        {
          "output_type": "stream",
          "name": "stdout",
          "text": [
            "Mounted at /content/drive\n"
          ]
        }
      ]
    },
    {
      "cell_type": "code",
      "metadata": {
        "colab": {
          "base_uri": "https://localhost:8080/",
          "height": 423
        },
        "id": "4f2b8072",
        "outputId": "e75fef4a-2134-4092-c2e0-7481702d5cef"
      },
      "source": [
        "## LOADING THE PROCESSED DATASET \n",
        "\n",
        "df= pd.read_csv(\"/content/drive/MyDrive/DL_JComp/processed_data.csv\")\n",
        "df.columns = [\"enc_input\",\"dec_input\"] \n",
        "df[\"dec_output\"] = df.dec_input\n",
        "df"
      ],
      "id": "4f2b8072",
      "execution_count": null,
      "outputs": [
        {
          "output_type": "execute_result",
          "data": {
            "text/plain": [
              "                                                enc_input  \\\n",
              "0          and he took in my favorite subject like soccer   \n",
              "1          actually who let me know about lang  8 was him   \n",
              "2             his kanji is ability is much better than me   \n",
              "3       we have known each other for only half a year ...   \n",
              "4         i heard a sentence last night when i watched tv   \n",
              "...                                                   ...   \n",
              "503896  i like thailand language because that pronounc...   \n",
              "503897  i ate kaomangai  rise with boild chikin  tomya...   \n",
              "503898  i think it is important thing to become to lik...   \n",
              "503899          yesterday i went to umeda station to date   \n",
              "503900  it said she want to make the meeting time at e...   \n",
              "\n",
              "                                                dec_input  \\\n",
              "0         and he took in my favorite subjects like soccer   \n",
              "1       actually he was the one who let me know about ...   \n",
              "2              his kanji ability is much better than mine   \n",
              "3       we have known each other for only half a year ...   \n",
              "4       i heard a sentence last night when i was watch...   \n",
              "...                                                   ...   \n",
              "503896  i like thai because the pronunciation sounds cute   \n",
              "503897  i ate kaomangai  rice with boiled chickin  tom...   \n",
              "503898  i think it is important to like coriander in o...   \n",
              "503899       i went to umeda station for dating yesterday   \n",
              "503900  she said she want to change the meeting time t...   \n",
              "\n",
              "                                               dec_output  \n",
              "0         and he took in my favorite subjects like soccer  \n",
              "1       actually he was the one who let me know about ...  \n",
              "2              his kanji ability is much better than mine  \n",
              "3       we have known each other for only half a year ...  \n",
              "4       i heard a sentence last night when i was watch...  \n",
              "...                                                   ...  \n",
              "503896  i like thai because the pronunciation sounds cute  \n",
              "503897  i ate kaomangai  rice with boiled chickin  tom...  \n",
              "503898  i think it is important to like coriander in o...  \n",
              "503899       i went to umeda station for dating yesterday  \n",
              "503900  she said she want to change the meeting time t...  \n",
              "\n",
              "[503901 rows x 3 columns]"
            ],
            "text/html": [
              "\n",
              "  <div id=\"df-93861405-f46d-4c15-9cdc-d23a762bd413\">\n",
              "    <div class=\"colab-df-container\">\n",
              "      <div>\n",
              "<style scoped>\n",
              "    .dataframe tbody tr th:only-of-type {\n",
              "        vertical-align: middle;\n",
              "    }\n",
              "\n",
              "    .dataframe tbody tr th {\n",
              "        vertical-align: top;\n",
              "    }\n",
              "\n",
              "    .dataframe thead th {\n",
              "        text-align: right;\n",
              "    }\n",
              "</style>\n",
              "<table border=\"1\" class=\"dataframe\">\n",
              "  <thead>\n",
              "    <tr style=\"text-align: right;\">\n",
              "      <th></th>\n",
              "      <th>enc_input</th>\n",
              "      <th>dec_input</th>\n",
              "      <th>dec_output</th>\n",
              "    </tr>\n",
              "  </thead>\n",
              "  <tbody>\n",
              "    <tr>\n",
              "      <th>0</th>\n",
              "      <td>and he took in my favorite subject like soccer</td>\n",
              "      <td>and he took in my favorite subjects like soccer</td>\n",
              "      <td>and he took in my favorite subjects like soccer</td>\n",
              "    </tr>\n",
              "    <tr>\n",
              "      <th>1</th>\n",
              "      <td>actually who let me know about lang  8 was him</td>\n",
              "      <td>actually he was the one who let me know about ...</td>\n",
              "      <td>actually he was the one who let me know about ...</td>\n",
              "    </tr>\n",
              "    <tr>\n",
              "      <th>2</th>\n",
              "      <td>his kanji is ability is much better than me</td>\n",
              "      <td>his kanji ability is much better than mine</td>\n",
              "      <td>his kanji ability is much better than mine</td>\n",
              "    </tr>\n",
              "    <tr>\n",
              "      <th>3</th>\n",
              "      <td>we have known each other for only half a year ...</td>\n",
              "      <td>we have known each other for only half a year ...</td>\n",
              "      <td>we have known each other for only half a year ...</td>\n",
              "    </tr>\n",
              "    <tr>\n",
              "      <th>4</th>\n",
              "      <td>i heard a sentence last night when i watched tv</td>\n",
              "      <td>i heard a sentence last night when i was watch...</td>\n",
              "      <td>i heard a sentence last night when i was watch...</td>\n",
              "    </tr>\n",
              "    <tr>\n",
              "      <th>...</th>\n",
              "      <td>...</td>\n",
              "      <td>...</td>\n",
              "      <td>...</td>\n",
              "    </tr>\n",
              "    <tr>\n",
              "      <th>503896</th>\n",
              "      <td>i like thailand language because that pronounc...</td>\n",
              "      <td>i like thai because the pronunciation sounds cute</td>\n",
              "      <td>i like thai because the pronunciation sounds cute</td>\n",
              "    </tr>\n",
              "    <tr>\n",
              "      <th>503897</th>\n",
              "      <td>i ate kaomangai  rise with boild chikin  tomya...</td>\n",
              "      <td>i ate kaomangai  rice with boiled chickin  tom...</td>\n",
              "      <td>i ate kaomangai  rice with boiled chickin  tom...</td>\n",
              "    </tr>\n",
              "    <tr>\n",
              "      <th>503898</th>\n",
              "      <td>i think it is important thing to become to lik...</td>\n",
              "      <td>i think it is important to like coriander in o...</td>\n",
              "      <td>i think it is important to like coriander in o...</td>\n",
              "    </tr>\n",
              "    <tr>\n",
              "      <th>503899</th>\n",
              "      <td>yesterday i went to umeda station to date</td>\n",
              "      <td>i went to umeda station for dating yesterday</td>\n",
              "      <td>i went to umeda station for dating yesterday</td>\n",
              "    </tr>\n",
              "    <tr>\n",
              "      <th>503900</th>\n",
              "      <td>it said she want to make the meeting time at e...</td>\n",
              "      <td>she said she want to change the meeting time t...</td>\n",
              "      <td>she said she want to change the meeting time t...</td>\n",
              "    </tr>\n",
              "  </tbody>\n",
              "</table>\n",
              "<p>503901 rows × 3 columns</p>\n",
              "</div>\n",
              "      <button class=\"colab-df-convert\" onclick=\"convertToInteractive('df-93861405-f46d-4c15-9cdc-d23a762bd413')\"\n",
              "              title=\"Convert this dataframe to an interactive table.\"\n",
              "              style=\"display:none;\">\n",
              "        \n",
              "  <svg xmlns=\"http://www.w3.org/2000/svg\" height=\"24px\"viewBox=\"0 0 24 24\"\n",
              "       width=\"24px\">\n",
              "    <path d=\"M0 0h24v24H0V0z\" fill=\"none\"/>\n",
              "    <path d=\"M18.56 5.44l.94 2.06.94-2.06 2.06-.94-2.06-.94-.94-2.06-.94 2.06-2.06.94zm-11 1L8.5 8.5l.94-2.06 2.06-.94-2.06-.94L8.5 2.5l-.94 2.06-2.06.94zm10 10l.94 2.06.94-2.06 2.06-.94-2.06-.94-.94-2.06-.94 2.06-2.06.94z\"/><path d=\"M17.41 7.96l-1.37-1.37c-.4-.4-.92-.59-1.43-.59-.52 0-1.04.2-1.43.59L10.3 9.45l-7.72 7.72c-.78.78-.78 2.05 0 2.83L4 21.41c.39.39.9.59 1.41.59.51 0 1.02-.2 1.41-.59l7.78-7.78 2.81-2.81c.8-.78.8-2.07 0-2.86zM5.41 20L4 18.59l7.72-7.72 1.47 1.35L5.41 20z\"/>\n",
              "  </svg>\n",
              "      </button>\n",
              "      \n",
              "  <style>\n",
              "    .colab-df-container {\n",
              "      display:flex;\n",
              "      flex-wrap:wrap;\n",
              "      gap: 12px;\n",
              "    }\n",
              "\n",
              "    .colab-df-convert {\n",
              "      background-color: #E8F0FE;\n",
              "      border: none;\n",
              "      border-radius: 50%;\n",
              "      cursor: pointer;\n",
              "      display: none;\n",
              "      fill: #1967D2;\n",
              "      height: 32px;\n",
              "      padding: 0 0 0 0;\n",
              "      width: 32px;\n",
              "    }\n",
              "\n",
              "    .colab-df-convert:hover {\n",
              "      background-color: #E2EBFA;\n",
              "      box-shadow: 0px 1px 2px rgba(60, 64, 67, 0.3), 0px 1px 3px 1px rgba(60, 64, 67, 0.15);\n",
              "      fill: #174EA6;\n",
              "    }\n",
              "\n",
              "    [theme=dark] .colab-df-convert {\n",
              "      background-color: #3B4455;\n",
              "      fill: #D2E3FC;\n",
              "    }\n",
              "\n",
              "    [theme=dark] .colab-df-convert:hover {\n",
              "      background-color: #434B5C;\n",
              "      box-shadow: 0px 1px 3px 1px rgba(0, 0, 0, 0.15);\n",
              "      filter: drop-shadow(0px 1px 2px rgba(0, 0, 0, 0.3));\n",
              "      fill: #FFFFFF;\n",
              "    }\n",
              "  </style>\n",
              "\n",
              "      <script>\n",
              "        const buttonEl =\n",
              "          document.querySelector('#df-93861405-f46d-4c15-9cdc-d23a762bd413 button.colab-df-convert');\n",
              "        buttonEl.style.display =\n",
              "          google.colab.kernel.accessAllowed ? 'block' : 'none';\n",
              "\n",
              "        async function convertToInteractive(key) {\n",
              "          const element = document.querySelector('#df-93861405-f46d-4c15-9cdc-d23a762bd413');\n",
              "          const dataTable =\n",
              "            await google.colab.kernel.invokeFunction('convertToInteractive',\n",
              "                                                     [key], {});\n",
              "          if (!dataTable) return;\n",
              "\n",
              "          const docLinkHtml = 'Like what you see? Visit the ' +\n",
              "            '<a target=\"_blank\" href=https://colab.research.google.com/notebooks/data_table.ipynb>data table notebook</a>'\n",
              "            + ' to learn more about interactive tables.';\n",
              "          element.innerHTML = '';\n",
              "          dataTable['output_type'] = 'display_data';\n",
              "          await google.colab.output.renderOutput(dataTable, element);\n",
              "          const docLink = document.createElement('div');\n",
              "          docLink.innerHTML = docLinkHtml;\n",
              "          element.appendChild(docLink);\n",
              "        }\n",
              "      </script>\n",
              "    </div>\n",
              "  </div>\n",
              "  "
            ]
          },
          "metadata": {},
          "execution_count": 7
        }
      ]
    },
    {
      "cell_type": "markdown",
      "metadata": {
        "id": "5682004c"
      },
      "source": [
        "## Adding start and end token"
      ],
      "id": "5682004c"
    },
    {
      "cell_type": "code",
      "metadata": {
        "colab": {
          "base_uri": "https://localhost:8080/",
          "height": 423
        },
        "id": "9cd63a6e",
        "outputId": "c4817016-4e33-45d5-a82e-593c139bf0b9"
      },
      "source": [
        "## THE INPUTS TO THE DECODER REQUIRES SPECIAL TOKENS FOR THE START AND THE END SO WE ARE GOING TO USE \n",
        "## <start> AS BEGINING TOKEN\n",
        "## <end>  AS END TOKEN\n",
        "\n",
        "df[\"dec_input\"]= \"< \" + df[\"dec_input\"]\n",
        "df[\"dec_output\"] =  df[\"dec_output\"] + \" >\" \n",
        "df"
      ],
      "id": "9cd63a6e",
      "execution_count": null,
      "outputs": [
        {
          "output_type": "execute_result",
          "data": {
            "text/plain": [
              "                                                enc_input  \\\n",
              "0          and he took in my favorite subject like soccer   \n",
              "1          actually who let me know about lang  8 was him   \n",
              "2             his kanji is ability is much better than me   \n",
              "3       we have known each other for only half a year ...   \n",
              "4         i heard a sentence last night when i watched tv   \n",
              "...                                                   ...   \n",
              "503896  i like thailand language because that pronounc...   \n",
              "503897  i ate kaomangai  rise with boild chikin  tomya...   \n",
              "503898  i think it is important thing to become to lik...   \n",
              "503899          yesterday i went to umeda station to date   \n",
              "503900  it said she want to make the meeting time at e...   \n",
              "\n",
              "                                                dec_input  \\\n",
              "0       < and he took in my favorite subjects like soccer   \n",
              "1       < actually he was the one who let me know abou...   \n",
              "2            < his kanji ability is much better than mine   \n",
              "3       < we have known each other for only half a yea...   \n",
              "4       < i heard a sentence last night when i was wat...   \n",
              "...                                                   ...   \n",
              "503896  < i like thai because the pronunciation sounds...   \n",
              "503897  < i ate kaomangai  rice with boiled chickin  t...   \n",
              "503898  < i think it is important to like coriander in...   \n",
              "503899     < i went to umeda station for dating yesterday   \n",
              "503900  < she said she want to change the meeting time...   \n",
              "\n",
              "                                               dec_output  \n",
              "0       and he took in my favorite subjects like soccer >  \n",
              "1       actually he was the one who let me know about ...  \n",
              "2            his kanji ability is much better than mine >  \n",
              "3       we have known each other for only half a year ...  \n",
              "4       i heard a sentence last night when i was watch...  \n",
              "...                                                   ...  \n",
              "503896  i like thai because the pronunciation sounds c...  \n",
              "503897  i ate kaomangai  rice with boiled chickin  tom...  \n",
              "503898  i think it is important to like coriander in o...  \n",
              "503899     i went to umeda station for dating yesterday >  \n",
              "503900  she said she want to change the meeting time t...  \n",
              "\n",
              "[503901 rows x 3 columns]"
            ],
            "text/html": [
              "\n",
              "  <div id=\"df-85596c0f-b4ce-4274-805a-b42aa03def5f\">\n",
              "    <div class=\"colab-df-container\">\n",
              "      <div>\n",
              "<style scoped>\n",
              "    .dataframe tbody tr th:only-of-type {\n",
              "        vertical-align: middle;\n",
              "    }\n",
              "\n",
              "    .dataframe tbody tr th {\n",
              "        vertical-align: top;\n",
              "    }\n",
              "\n",
              "    .dataframe thead th {\n",
              "        text-align: right;\n",
              "    }\n",
              "</style>\n",
              "<table border=\"1\" class=\"dataframe\">\n",
              "  <thead>\n",
              "    <tr style=\"text-align: right;\">\n",
              "      <th></th>\n",
              "      <th>enc_input</th>\n",
              "      <th>dec_input</th>\n",
              "      <th>dec_output</th>\n",
              "    </tr>\n",
              "  </thead>\n",
              "  <tbody>\n",
              "    <tr>\n",
              "      <th>0</th>\n",
              "      <td>and he took in my favorite subject like soccer</td>\n",
              "      <td>&lt; and he took in my favorite subjects like soccer</td>\n",
              "      <td>and he took in my favorite subjects like soccer &gt;</td>\n",
              "    </tr>\n",
              "    <tr>\n",
              "      <th>1</th>\n",
              "      <td>actually who let me know about lang  8 was him</td>\n",
              "      <td>&lt; actually he was the one who let me know abou...</td>\n",
              "      <td>actually he was the one who let me know about ...</td>\n",
              "    </tr>\n",
              "    <tr>\n",
              "      <th>2</th>\n",
              "      <td>his kanji is ability is much better than me</td>\n",
              "      <td>&lt; his kanji ability is much better than mine</td>\n",
              "      <td>his kanji ability is much better than mine &gt;</td>\n",
              "    </tr>\n",
              "    <tr>\n",
              "      <th>3</th>\n",
              "      <td>we have known each other for only half a year ...</td>\n",
              "      <td>&lt; we have known each other for only half a yea...</td>\n",
              "      <td>we have known each other for only half a year ...</td>\n",
              "    </tr>\n",
              "    <tr>\n",
              "      <th>4</th>\n",
              "      <td>i heard a sentence last night when i watched tv</td>\n",
              "      <td>&lt; i heard a sentence last night when i was wat...</td>\n",
              "      <td>i heard a sentence last night when i was watch...</td>\n",
              "    </tr>\n",
              "    <tr>\n",
              "      <th>...</th>\n",
              "      <td>...</td>\n",
              "      <td>...</td>\n",
              "      <td>...</td>\n",
              "    </tr>\n",
              "    <tr>\n",
              "      <th>503896</th>\n",
              "      <td>i like thailand language because that pronounc...</td>\n",
              "      <td>&lt; i like thai because the pronunciation sounds...</td>\n",
              "      <td>i like thai because the pronunciation sounds c...</td>\n",
              "    </tr>\n",
              "    <tr>\n",
              "      <th>503897</th>\n",
              "      <td>i ate kaomangai  rise with boild chikin  tomya...</td>\n",
              "      <td>&lt; i ate kaomangai  rice with boiled chickin  t...</td>\n",
              "      <td>i ate kaomangai  rice with boiled chickin  tom...</td>\n",
              "    </tr>\n",
              "    <tr>\n",
              "      <th>503898</th>\n",
              "      <td>i think it is important thing to become to lik...</td>\n",
              "      <td>&lt; i think it is important to like coriander in...</td>\n",
              "      <td>i think it is important to like coriander in o...</td>\n",
              "    </tr>\n",
              "    <tr>\n",
              "      <th>503899</th>\n",
              "      <td>yesterday i went to umeda station to date</td>\n",
              "      <td>&lt; i went to umeda station for dating yesterday</td>\n",
              "      <td>i went to umeda station for dating yesterday &gt;</td>\n",
              "    </tr>\n",
              "    <tr>\n",
              "      <th>503900</th>\n",
              "      <td>it said she want to make the meeting time at e...</td>\n",
              "      <td>&lt; she said she want to change the meeting time...</td>\n",
              "      <td>she said she want to change the meeting time t...</td>\n",
              "    </tr>\n",
              "  </tbody>\n",
              "</table>\n",
              "<p>503901 rows × 3 columns</p>\n",
              "</div>\n",
              "      <button class=\"colab-df-convert\" onclick=\"convertToInteractive('df-85596c0f-b4ce-4274-805a-b42aa03def5f')\"\n",
              "              title=\"Convert this dataframe to an interactive table.\"\n",
              "              style=\"display:none;\">\n",
              "        \n",
              "  <svg xmlns=\"http://www.w3.org/2000/svg\" height=\"24px\"viewBox=\"0 0 24 24\"\n",
              "       width=\"24px\">\n",
              "    <path d=\"M0 0h24v24H0V0z\" fill=\"none\"/>\n",
              "    <path d=\"M18.56 5.44l.94 2.06.94-2.06 2.06-.94-2.06-.94-.94-2.06-.94 2.06-2.06.94zm-11 1L8.5 8.5l.94-2.06 2.06-.94-2.06-.94L8.5 2.5l-.94 2.06-2.06.94zm10 10l.94 2.06.94-2.06 2.06-.94-2.06-.94-.94-2.06-.94 2.06-2.06.94z\"/><path d=\"M17.41 7.96l-1.37-1.37c-.4-.4-.92-.59-1.43-.59-.52 0-1.04.2-1.43.59L10.3 9.45l-7.72 7.72c-.78.78-.78 2.05 0 2.83L4 21.41c.39.39.9.59 1.41.59.51 0 1.02-.2 1.41-.59l7.78-7.78 2.81-2.81c.8-.78.8-2.07 0-2.86zM5.41 20L4 18.59l7.72-7.72 1.47 1.35L5.41 20z\"/>\n",
              "  </svg>\n",
              "      </button>\n",
              "      \n",
              "  <style>\n",
              "    .colab-df-container {\n",
              "      display:flex;\n",
              "      flex-wrap:wrap;\n",
              "      gap: 12px;\n",
              "    }\n",
              "\n",
              "    .colab-df-convert {\n",
              "      background-color: #E8F0FE;\n",
              "      border: none;\n",
              "      border-radius: 50%;\n",
              "      cursor: pointer;\n",
              "      display: none;\n",
              "      fill: #1967D2;\n",
              "      height: 32px;\n",
              "      padding: 0 0 0 0;\n",
              "      width: 32px;\n",
              "    }\n",
              "\n",
              "    .colab-df-convert:hover {\n",
              "      background-color: #E2EBFA;\n",
              "      box-shadow: 0px 1px 2px rgba(60, 64, 67, 0.3), 0px 1px 3px 1px rgba(60, 64, 67, 0.15);\n",
              "      fill: #174EA6;\n",
              "    }\n",
              "\n",
              "    [theme=dark] .colab-df-convert {\n",
              "      background-color: #3B4455;\n",
              "      fill: #D2E3FC;\n",
              "    }\n",
              "\n",
              "    [theme=dark] .colab-df-convert:hover {\n",
              "      background-color: #434B5C;\n",
              "      box-shadow: 0px 1px 3px 1px rgba(0, 0, 0, 0.15);\n",
              "      filter: drop-shadow(0px 1px 2px rgba(0, 0, 0, 0.3));\n",
              "      fill: #FFFFFF;\n",
              "    }\n",
              "  </style>\n",
              "\n",
              "      <script>\n",
              "        const buttonEl =\n",
              "          document.querySelector('#df-85596c0f-b4ce-4274-805a-b42aa03def5f button.colab-df-convert');\n",
              "        buttonEl.style.display =\n",
              "          google.colab.kernel.accessAllowed ? 'block' : 'none';\n",
              "\n",
              "        async function convertToInteractive(key) {\n",
              "          const element = document.querySelector('#df-85596c0f-b4ce-4274-805a-b42aa03def5f');\n",
              "          const dataTable =\n",
              "            await google.colab.kernel.invokeFunction('convertToInteractive',\n",
              "                                                     [key], {});\n",
              "          if (!dataTable) return;\n",
              "\n",
              "          const docLinkHtml = 'Like what you see? Visit the ' +\n",
              "            '<a target=\"_blank\" href=https://colab.research.google.com/notebooks/data_table.ipynb>data table notebook</a>'\n",
              "            + ' to learn more about interactive tables.';\n",
              "          element.innerHTML = '';\n",
              "          dataTable['output_type'] = 'display_data';\n",
              "          await google.colab.output.renderOutput(dataTable, element);\n",
              "          const docLink = document.createElement('div');\n",
              "          docLink.innerHTML = docLinkHtml;\n",
              "          element.appendChild(docLink);\n",
              "        }\n",
              "      </script>\n",
              "    </div>\n",
              "  </div>\n",
              "  "
            ]
          },
          "metadata": {},
          "execution_count": 8
        }
      ]
    },
    {
      "cell_type": "markdown",
      "metadata": {
        "id": "54c6bfe3"
      },
      "source": [
        "## SPLITTING AND SAMPLITNG AROUD 100K DATAPOINTS\n",
        "\n",
        "\n",
        "---\n",
        "##### THE TOTAL DATASET HAS 500K DATAPOINTS WHICH WILL TAKE MUCH HIGHER TRAINING TIME. THEREFORE I AM SAMPLING ONE-FIFTH OF THE TOTAL DATASET\n"
      ],
      "id": "54c6bfe3"
    },
    {
      "cell_type": "code",
      "metadata": {
        "id": "T1NgQRsLxM1r"
      },
      "source": [
        "df_sampled = df.sample(frac= 0.2,random_state=1)"
      ],
      "id": "T1NgQRsLxM1r",
      "execution_count": null,
      "outputs": []
    },
    {
      "cell_type": "code",
      "metadata": {
        "id": "JHbUAaYMWGMU"
      },
      "source": [
        "## ONCE THE DATA IS SAMPLED WE ARE SPLITTIND THE DATA IN TO TRAIN AND TEST\n",
        "df_train ,df_val = train_test_split(df_sampled,test_size=0.2,random_state = 3)"
      ],
      "id": "JHbUAaYMWGMU",
      "execution_count": null,
      "outputs": []
    },
    {
      "cell_type": "code",
      "metadata": {
        "colab": {
          "base_uri": "https://localhost:8080/",
          "height": 423
        },
        "id": "261827ba",
        "outputId": "0e2590d5-2bcf-402a-c5cc-5105cb3a5f2f"
      },
      "source": [
        "## IN THE COLUMN WHICH HAS DECODER INPUTS ADDING \"<end>\" TOKEN TO BE LEARNED BY THE TOKENIZER\n",
        "df_train[\"dec_input\"].iloc[0]  = df_train.iloc[0][\"dec_input\"] + \" >\"\n",
        "df_train"
      ],
      "id": "261827ba",
      "execution_count": null,
      "outputs": [
        {
          "output_type": "execute_result",
          "data": {
            "text/plain": [
              "                                                enc_input  \\\n",
              "20445   and last time i went there i was not able to t...   \n",
              "501592  as you know in the japan happen big earthquake...   \n",
              "141711  after i studied the esl school in the universi...   \n",
              "240451  all muslims celebrat in  ead  because ramadan ...   \n",
              "100580              then it makes me studying even harder   \n",
              "...                                                   ...   \n",
              "139578  and i lost her strength and cheerfuness long t...   \n",
              "390117  i just can tell which one read more naturally ...   \n",
              "475596  so i buy a fiction named  the lost symbol  whi...   \n",
              "158997              i almost prepared presentations today   \n",
              "279774  i went to the naniwa yodogawa fireworks festiv...   \n",
              "\n",
              "                                                dec_input  \\\n",
              "20445   < and the last time i went there i was not abl...   \n",
              "501592  < as you know in japan a big earthquake occurr...   \n",
              "141711  < after i studied at the esl school in the uni...   \n",
              "240451  < all muslims celebrate in eid because ramadan...   \n",
              "100580               < that makes my studying even harder   \n",
              "...                                                   ...   \n",
              "139578  < i lost her strength and cheerfulness a long ...   \n",
              "390117  < i just can tell which one read more naturall...   \n",
              "475596  < so i buy a fiction named  the lost symbol  w...   \n",
              "158997    < i have almost prepared my presentations today   \n",
              "279774  < i went to the naniwa yodogawa fireworks fest...   \n",
              "\n",
              "                                               dec_output  \n",
              "20445   and the last time i went there i was not able ...  \n",
              "501592  as you know in japan a big earthquake occurred...  \n",
              "141711  after i studied at the esl school in the unive...  \n",
              "240451  all muslims celebrate in eid because ramadan i...  \n",
              "100580               that makes my studying even harder >  \n",
              "...                                                   ...  \n",
              "139578  i lost her strength and cheerfulness a long ti...  \n",
              "390117  i just can tell which one read more naturally ...  \n",
              "475596  so i buy a fiction named  the lost symbol  whi...  \n",
              "158997    i have almost prepared my presentations today >  \n",
              "279774  i went to the naniwa yodogawa fireworks festiv...  \n",
              "\n",
              "[80624 rows x 3 columns]"
            ],
            "text/html": [
              "\n",
              "  <div id=\"df-b7d119ca-a64b-4188-b0fc-4a4031f9f614\">\n",
              "    <div class=\"colab-df-container\">\n",
              "      <div>\n",
              "<style scoped>\n",
              "    .dataframe tbody tr th:only-of-type {\n",
              "        vertical-align: middle;\n",
              "    }\n",
              "\n",
              "    .dataframe tbody tr th {\n",
              "        vertical-align: top;\n",
              "    }\n",
              "\n",
              "    .dataframe thead th {\n",
              "        text-align: right;\n",
              "    }\n",
              "</style>\n",
              "<table border=\"1\" class=\"dataframe\">\n",
              "  <thead>\n",
              "    <tr style=\"text-align: right;\">\n",
              "      <th></th>\n",
              "      <th>enc_input</th>\n",
              "      <th>dec_input</th>\n",
              "      <th>dec_output</th>\n",
              "    </tr>\n",
              "  </thead>\n",
              "  <tbody>\n",
              "    <tr>\n",
              "      <th>20445</th>\n",
              "      <td>and last time i went there i was not able to t...</td>\n",
              "      <td>&lt; and the last time i went there i was not abl...</td>\n",
              "      <td>and the last time i went there i was not able ...</td>\n",
              "    </tr>\n",
              "    <tr>\n",
              "      <th>501592</th>\n",
              "      <td>as you know in the japan happen big earthquake...</td>\n",
              "      <td>&lt; as you know in japan a big earthquake occurr...</td>\n",
              "      <td>as you know in japan a big earthquake occurred...</td>\n",
              "    </tr>\n",
              "    <tr>\n",
              "      <th>141711</th>\n",
              "      <td>after i studied the esl school in the universi...</td>\n",
              "      <td>&lt; after i studied at the esl school in the uni...</td>\n",
              "      <td>after i studied at the esl school in the unive...</td>\n",
              "    </tr>\n",
              "    <tr>\n",
              "      <th>240451</th>\n",
              "      <td>all muslims celebrat in  ead  because ramadan ...</td>\n",
              "      <td>&lt; all muslims celebrate in eid because ramadan...</td>\n",
              "      <td>all muslims celebrate in eid because ramadan i...</td>\n",
              "    </tr>\n",
              "    <tr>\n",
              "      <th>100580</th>\n",
              "      <td>then it makes me studying even harder</td>\n",
              "      <td>&lt; that makes my studying even harder</td>\n",
              "      <td>that makes my studying even harder &gt;</td>\n",
              "    </tr>\n",
              "    <tr>\n",
              "      <th>...</th>\n",
              "      <td>...</td>\n",
              "      <td>...</td>\n",
              "      <td>...</td>\n",
              "    </tr>\n",
              "    <tr>\n",
              "      <th>139578</th>\n",
              "      <td>and i lost her strength and cheerfuness long t...</td>\n",
              "      <td>&lt; i lost her strength and cheerfulness a long ...</td>\n",
              "      <td>i lost her strength and cheerfulness a long ti...</td>\n",
              "    </tr>\n",
              "    <tr>\n",
              "      <th>390117</th>\n",
              "      <td>i just can tell which one read more naturally ...</td>\n",
              "      <td>&lt; i just can tell which one read more naturall...</td>\n",
              "      <td>i just can tell which one read more naturally ...</td>\n",
              "    </tr>\n",
              "    <tr>\n",
              "      <th>475596</th>\n",
              "      <td>so i buy a fiction named  the lost symbol  whi...</td>\n",
              "      <td>&lt; so i buy a fiction named  the lost symbol  w...</td>\n",
              "      <td>so i buy a fiction named  the lost symbol  whi...</td>\n",
              "    </tr>\n",
              "    <tr>\n",
              "      <th>158997</th>\n",
              "      <td>i almost prepared presentations today</td>\n",
              "      <td>&lt; i have almost prepared my presentations today</td>\n",
              "      <td>i have almost prepared my presentations today &gt;</td>\n",
              "    </tr>\n",
              "    <tr>\n",
              "      <th>279774</th>\n",
              "      <td>i went to the naniwa yodogawa fireworks festiv...</td>\n",
              "      <td>&lt; i went to the naniwa yodogawa fireworks fest...</td>\n",
              "      <td>i went to the naniwa yodogawa fireworks festiv...</td>\n",
              "    </tr>\n",
              "  </tbody>\n",
              "</table>\n",
              "<p>80624 rows × 3 columns</p>\n",
              "</div>\n",
              "      <button class=\"colab-df-convert\" onclick=\"convertToInteractive('df-b7d119ca-a64b-4188-b0fc-4a4031f9f614')\"\n",
              "              title=\"Convert this dataframe to an interactive table.\"\n",
              "              style=\"display:none;\">\n",
              "        \n",
              "  <svg xmlns=\"http://www.w3.org/2000/svg\" height=\"24px\"viewBox=\"0 0 24 24\"\n",
              "       width=\"24px\">\n",
              "    <path d=\"M0 0h24v24H0V0z\" fill=\"none\"/>\n",
              "    <path d=\"M18.56 5.44l.94 2.06.94-2.06 2.06-.94-2.06-.94-.94-2.06-.94 2.06-2.06.94zm-11 1L8.5 8.5l.94-2.06 2.06-.94-2.06-.94L8.5 2.5l-.94 2.06-2.06.94zm10 10l.94 2.06.94-2.06 2.06-.94-2.06-.94-.94-2.06-.94 2.06-2.06.94z\"/><path d=\"M17.41 7.96l-1.37-1.37c-.4-.4-.92-.59-1.43-.59-.52 0-1.04.2-1.43.59L10.3 9.45l-7.72 7.72c-.78.78-.78 2.05 0 2.83L4 21.41c.39.39.9.59 1.41.59.51 0 1.02-.2 1.41-.59l7.78-7.78 2.81-2.81c.8-.78.8-2.07 0-2.86zM5.41 20L4 18.59l7.72-7.72 1.47 1.35L5.41 20z\"/>\n",
              "  </svg>\n",
              "      </button>\n",
              "      \n",
              "  <style>\n",
              "    .colab-df-container {\n",
              "      display:flex;\n",
              "      flex-wrap:wrap;\n",
              "      gap: 12px;\n",
              "    }\n",
              "\n",
              "    .colab-df-convert {\n",
              "      background-color: #E8F0FE;\n",
              "      border: none;\n",
              "      border-radius: 50%;\n",
              "      cursor: pointer;\n",
              "      display: none;\n",
              "      fill: #1967D2;\n",
              "      height: 32px;\n",
              "      padding: 0 0 0 0;\n",
              "      width: 32px;\n",
              "    }\n",
              "\n",
              "    .colab-df-convert:hover {\n",
              "      background-color: #E2EBFA;\n",
              "      box-shadow: 0px 1px 2px rgba(60, 64, 67, 0.3), 0px 1px 3px 1px rgba(60, 64, 67, 0.15);\n",
              "      fill: #174EA6;\n",
              "    }\n",
              "\n",
              "    [theme=dark] .colab-df-convert {\n",
              "      background-color: #3B4455;\n",
              "      fill: #D2E3FC;\n",
              "    }\n",
              "\n",
              "    [theme=dark] .colab-df-convert:hover {\n",
              "      background-color: #434B5C;\n",
              "      box-shadow: 0px 1px 3px 1px rgba(0, 0, 0, 0.15);\n",
              "      filter: drop-shadow(0px 1px 2px rgba(0, 0, 0, 0.3));\n",
              "      fill: #FFFFFF;\n",
              "    }\n",
              "  </style>\n",
              "\n",
              "      <script>\n",
              "        const buttonEl =\n",
              "          document.querySelector('#df-b7d119ca-a64b-4188-b0fc-4a4031f9f614 button.colab-df-convert');\n",
              "        buttonEl.style.display =\n",
              "          google.colab.kernel.accessAllowed ? 'block' : 'none';\n",
              "\n",
              "        async function convertToInteractive(key) {\n",
              "          const element = document.querySelector('#df-b7d119ca-a64b-4188-b0fc-4a4031f9f614');\n",
              "          const dataTable =\n",
              "            await google.colab.kernel.invokeFunction('convertToInteractive',\n",
              "                                                     [key], {});\n",
              "          if (!dataTable) return;\n",
              "\n",
              "          const docLinkHtml = 'Like what you see? Visit the ' +\n",
              "            '<a target=\"_blank\" href=https://colab.research.google.com/notebooks/data_table.ipynb>data table notebook</a>'\n",
              "            + ' to learn more about interactive tables.';\n",
              "          element.innerHTML = '';\n",
              "          dataTable['output_type'] = 'display_data';\n",
              "          await google.colab.output.renderOutput(dataTable, element);\n",
              "          const docLink = document.createElement('div');\n",
              "          docLink.innerHTML = docLinkHtml;\n",
              "          element.appendChild(docLink);\n",
              "        }\n",
              "      </script>\n",
              "    </div>\n",
              "  </div>\n",
              "  "
            ]
          },
          "metadata": {},
          "execution_count": 14
        }
      ]
    },
    {
      "cell_type": "code",
      "metadata": {
        "colab": {
          "base_uri": "https://localhost:8080/",
          "height": 423
        },
        "id": "5g2H0H9YZCQg",
        "outputId": "f0bae15f-a404-4cea-cf90-c8454ac8a336"
      },
      "source": [
        "## VALIDATION DATA\n",
        "df_val"
      ],
      "id": "5g2H0H9YZCQg",
      "execution_count": null,
      "outputs": [
        {
          "output_type": "execute_result",
          "data": {
            "text/plain": [
              "                                                enc_input  \\\n",
              "222675  however i felt there was something wrong with ...   \n",
              "64343                                     mu future plan    \n",
              "82998               i was so thanksfull to him every time   \n",
              "301188                        oh i have to study japanese   \n",
              "379628        i taked him our life and girlfreind and job   \n",
              "...                                                   ...   \n",
              "310171  i think hammerfest in the north norway and sai...   \n",
              "388587             can we find the true love in china now   \n",
              "331113                 and their stomach seem very softly   \n",
              "141340                                   it is fine today   \n",
              "181333                                       neurosurgeon   \n",
              "\n",
              "                                                dec_input  \\\n",
              "222675  < however i felt there was something wrong wit...   \n",
              "64343                                 <  my future plans    \n",
              "82998                < i am so thankful to him every time   \n",
              "301188                      < oh i have to study japanese   \n",
              "379628  < i talked him our lives and girlfreinds and jobs   \n",
              "...                                                   ...   \n",
              "310171  < i think hammerfest in the north of norway an...   \n",
              "388587               < can we find true love in china now   \n",
              "331113                  < and its stomach seems very soft   \n",
              "141340                                 < it is fine today   \n",
              "181333                                < or a neurosurgeon   \n",
              "\n",
              "                                               dec_output  \n",
              "222675  however i felt there was something wrong with ...  \n",
              "64343                                  my future plans  >  \n",
              "82998                i am so thankful to him every time >  \n",
              "301188                      oh i have to study japanese >  \n",
              "379628  i talked him our lives and girlfreinds and jobs >  \n",
              "...                                                   ...  \n",
              "310171  i think hammerfest in the north of norway and ...  \n",
              "388587               can we find true love in china now >  \n",
              "331113                  and its stomach seems very soft >  \n",
              "141340                                 it is fine today >  \n",
              "181333                                or a neurosurgeon >  \n",
              "\n",
              "[20156 rows x 3 columns]"
            ],
            "text/html": [
              "\n",
              "  <div id=\"df-a2fd1736-973d-47e4-8159-51c2897b7bc4\">\n",
              "    <div class=\"colab-df-container\">\n",
              "      <div>\n",
              "<style scoped>\n",
              "    .dataframe tbody tr th:only-of-type {\n",
              "        vertical-align: middle;\n",
              "    }\n",
              "\n",
              "    .dataframe tbody tr th {\n",
              "        vertical-align: top;\n",
              "    }\n",
              "\n",
              "    .dataframe thead th {\n",
              "        text-align: right;\n",
              "    }\n",
              "</style>\n",
              "<table border=\"1\" class=\"dataframe\">\n",
              "  <thead>\n",
              "    <tr style=\"text-align: right;\">\n",
              "      <th></th>\n",
              "      <th>enc_input</th>\n",
              "      <th>dec_input</th>\n",
              "      <th>dec_output</th>\n",
              "    </tr>\n",
              "  </thead>\n",
              "  <tbody>\n",
              "    <tr>\n",
              "      <th>222675</th>\n",
              "      <td>however i felt there was something wrong with ...</td>\n",
              "      <td>&lt; however i felt there was something wrong wit...</td>\n",
              "      <td>however i felt there was something wrong with ...</td>\n",
              "    </tr>\n",
              "    <tr>\n",
              "      <th>64343</th>\n",
              "      <td>mu future plan</td>\n",
              "      <td>&lt;  my future plans</td>\n",
              "      <td>my future plans  &gt;</td>\n",
              "    </tr>\n",
              "    <tr>\n",
              "      <th>82998</th>\n",
              "      <td>i was so thanksfull to him every time</td>\n",
              "      <td>&lt; i am so thankful to him every time</td>\n",
              "      <td>i am so thankful to him every time &gt;</td>\n",
              "    </tr>\n",
              "    <tr>\n",
              "      <th>301188</th>\n",
              "      <td>oh i have to study japanese</td>\n",
              "      <td>&lt; oh i have to study japanese</td>\n",
              "      <td>oh i have to study japanese &gt;</td>\n",
              "    </tr>\n",
              "    <tr>\n",
              "      <th>379628</th>\n",
              "      <td>i taked him our life and girlfreind and job</td>\n",
              "      <td>&lt; i talked him our lives and girlfreinds and jobs</td>\n",
              "      <td>i talked him our lives and girlfreinds and jobs &gt;</td>\n",
              "    </tr>\n",
              "    <tr>\n",
              "      <th>...</th>\n",
              "      <td>...</td>\n",
              "      <td>...</td>\n",
              "      <td>...</td>\n",
              "    </tr>\n",
              "    <tr>\n",
              "      <th>310171</th>\n",
              "      <td>i think hammerfest in the north norway and sai...</td>\n",
              "      <td>&lt; i think hammerfest in the north of norway an...</td>\n",
              "      <td>i think hammerfest in the north of norway and ...</td>\n",
              "    </tr>\n",
              "    <tr>\n",
              "      <th>388587</th>\n",
              "      <td>can we find the true love in china now</td>\n",
              "      <td>&lt; can we find true love in china now</td>\n",
              "      <td>can we find true love in china now &gt;</td>\n",
              "    </tr>\n",
              "    <tr>\n",
              "      <th>331113</th>\n",
              "      <td>and their stomach seem very softly</td>\n",
              "      <td>&lt; and its stomach seems very soft</td>\n",
              "      <td>and its stomach seems very soft &gt;</td>\n",
              "    </tr>\n",
              "    <tr>\n",
              "      <th>141340</th>\n",
              "      <td>it is fine today</td>\n",
              "      <td>&lt; it is fine today</td>\n",
              "      <td>it is fine today &gt;</td>\n",
              "    </tr>\n",
              "    <tr>\n",
              "      <th>181333</th>\n",
              "      <td>neurosurgeon</td>\n",
              "      <td>&lt; or a neurosurgeon</td>\n",
              "      <td>or a neurosurgeon &gt;</td>\n",
              "    </tr>\n",
              "  </tbody>\n",
              "</table>\n",
              "<p>20156 rows × 3 columns</p>\n",
              "</div>\n",
              "      <button class=\"colab-df-convert\" onclick=\"convertToInteractive('df-a2fd1736-973d-47e4-8159-51c2897b7bc4')\"\n",
              "              title=\"Convert this dataframe to an interactive table.\"\n",
              "              style=\"display:none;\">\n",
              "        \n",
              "  <svg xmlns=\"http://www.w3.org/2000/svg\" height=\"24px\"viewBox=\"0 0 24 24\"\n",
              "       width=\"24px\">\n",
              "    <path d=\"M0 0h24v24H0V0z\" fill=\"none\"/>\n",
              "    <path d=\"M18.56 5.44l.94 2.06.94-2.06 2.06-.94-2.06-.94-.94-2.06-.94 2.06-2.06.94zm-11 1L8.5 8.5l.94-2.06 2.06-.94-2.06-.94L8.5 2.5l-.94 2.06-2.06.94zm10 10l.94 2.06.94-2.06 2.06-.94-2.06-.94-.94-2.06-.94 2.06-2.06.94z\"/><path d=\"M17.41 7.96l-1.37-1.37c-.4-.4-.92-.59-1.43-.59-.52 0-1.04.2-1.43.59L10.3 9.45l-7.72 7.72c-.78.78-.78 2.05 0 2.83L4 21.41c.39.39.9.59 1.41.59.51 0 1.02-.2 1.41-.59l7.78-7.78 2.81-2.81c.8-.78.8-2.07 0-2.86zM5.41 20L4 18.59l7.72-7.72 1.47 1.35L5.41 20z\"/>\n",
              "  </svg>\n",
              "      </button>\n",
              "      \n",
              "  <style>\n",
              "    .colab-df-container {\n",
              "      display:flex;\n",
              "      flex-wrap:wrap;\n",
              "      gap: 12px;\n",
              "    }\n",
              "\n",
              "    .colab-df-convert {\n",
              "      background-color: #E8F0FE;\n",
              "      border: none;\n",
              "      border-radius: 50%;\n",
              "      cursor: pointer;\n",
              "      display: none;\n",
              "      fill: #1967D2;\n",
              "      height: 32px;\n",
              "      padding: 0 0 0 0;\n",
              "      width: 32px;\n",
              "    }\n",
              "\n",
              "    .colab-df-convert:hover {\n",
              "      background-color: #E2EBFA;\n",
              "      box-shadow: 0px 1px 2px rgba(60, 64, 67, 0.3), 0px 1px 3px 1px rgba(60, 64, 67, 0.15);\n",
              "      fill: #174EA6;\n",
              "    }\n",
              "\n",
              "    [theme=dark] .colab-df-convert {\n",
              "      background-color: #3B4455;\n",
              "      fill: #D2E3FC;\n",
              "    }\n",
              "\n",
              "    [theme=dark] .colab-df-convert:hover {\n",
              "      background-color: #434B5C;\n",
              "      box-shadow: 0px 1px 3px 1px rgba(0, 0, 0, 0.15);\n",
              "      filter: drop-shadow(0px 1px 2px rgba(0, 0, 0, 0.3));\n",
              "      fill: #FFFFFF;\n",
              "    }\n",
              "  </style>\n",
              "\n",
              "      <script>\n",
              "        const buttonEl =\n",
              "          document.querySelector('#df-a2fd1736-973d-47e4-8159-51c2897b7bc4 button.colab-df-convert');\n",
              "        buttonEl.style.display =\n",
              "          google.colab.kernel.accessAllowed ? 'block' : 'none';\n",
              "\n",
              "        async function convertToInteractive(key) {\n",
              "          const element = document.querySelector('#df-a2fd1736-973d-47e4-8159-51c2897b7bc4');\n",
              "          const dataTable =\n",
              "            await google.colab.kernel.invokeFunction('convertToInteractive',\n",
              "                                                     [key], {});\n",
              "          if (!dataTable) return;\n",
              "\n",
              "          const docLinkHtml = 'Like what you see? Visit the ' +\n",
              "            '<a target=\"_blank\" href=https://colab.research.google.com/notebooks/data_table.ipynb>data table notebook</a>'\n",
              "            + ' to learn more about interactive tables.';\n",
              "          element.innerHTML = '';\n",
              "          dataTable['output_type'] = 'display_data';\n",
              "          await google.colab.output.renderOutput(dataTable, element);\n",
              "          const docLink = document.createElement('div');\n",
              "          docLink.innerHTML = docLinkHtml;\n",
              "          element.appendChild(docLink);\n",
              "        }\n",
              "      </script>\n",
              "    </div>\n",
              "  </div>\n",
              "  "
            ]
          },
          "metadata": {},
          "execution_count": 15
        }
      ]
    },
    {
      "cell_type": "code",
      "metadata": {
        "colab": {
          "base_uri": "https://localhost:8080/",
          "height": 423
        },
        "id": "Wxd7_J_QJf4D",
        "outputId": "bc855482-2638-4cd9-c4ca-919ca3dfa799"
      },
      "source": [
        "## HERE I AM SAMPLING 1000 POINTS FROM THE DATAFRAME AS TEST DATA WHICH ARE NOT PRESEENT IN THE TRAIN AND VALIDAION DATA\n",
        "np.random.seed(5)\n",
        "df_test = df.loc[np.random.choice(np.array([x for x in df.index.values if x not in df_sampled.index.values]),1000,replace= False,)]\n",
        "df_test"
      ],
      "id": "Wxd7_J_QJf4D",
      "execution_count": null,
      "outputs": [
        {
          "output_type": "execute_result",
          "data": {
            "text/plain": [
              "                                                enc_input  \\\n",
              "144583  you are meeting your friends and going to a ba...   \n",
              "455599      but since i got here i have not studied a lot   \n",
              "13922   we had lunch with them in a house flooded by t...   \n",
              "128968                  an professor introduced me to her   \n",
              "402800  his companions were having drinks in front of ...   \n",
              "...                                                   ...   \n",
              "352632  so many people is suffuring from hunger povert...   \n",
              "191449  i wish i could be of some help during this big...   \n",
              "179722  anyway what i hope is he will come to shanghai...   \n",
              "38604                i just saw something on the facebook   \n",
              "388473  and then i started to make my stole with white...   \n",
              "\n",
              "                                                dec_input  \\\n",
              "144583  < you are meeting your friends and going to a ...   \n",
              "455599  < but since i got here i have not studied  ver...   \n",
              "13922   < we had lunch with those whose house had been...   \n",
              "128968                 < a professor introduced me to her   \n",
              "402800  < his companions were having drinks in front o...   \n",
              "...                                                   ...   \n",
              "352632  < so many people are suffering from hunger and...   \n",
              "191449  < i hope to offer some help in this big change...   \n",
              "179722  < anyway what i hope is that he will come to s...   \n",
              "38604                  < i just saw something on facebook   \n",
              "388473  < and then i started to knitmyself a stole usi...   \n",
              "\n",
              "                                               dec_output  \n",
              "144583  you are meeting your friends and going to a ba...  \n",
              "455599  but since i got here i have not studied  very ...  \n",
              "13922   we had lunch with those whose house had been f...  \n",
              "128968                 a professor introduced me to her >  \n",
              "402800  his companions were having drinks in front of ...  \n",
              "...                                                   ...  \n",
              "352632  so many people are suffering from hunger and p...  \n",
              "191449  i hope to offer some help in this big change b...  \n",
              "179722  anyway what i hope is that he will come to sha...  \n",
              "38604                  i just saw something on facebook >  \n",
              "388473  and then i started to knitmyself a stole using...  \n",
              "\n",
              "[1000 rows x 3 columns]"
            ],
            "text/html": [
              "\n",
              "  <div id=\"df-134b4830-f39a-4fef-9b21-f35a36f07faa\">\n",
              "    <div class=\"colab-df-container\">\n",
              "      <div>\n",
              "<style scoped>\n",
              "    .dataframe tbody tr th:only-of-type {\n",
              "        vertical-align: middle;\n",
              "    }\n",
              "\n",
              "    .dataframe tbody tr th {\n",
              "        vertical-align: top;\n",
              "    }\n",
              "\n",
              "    .dataframe thead th {\n",
              "        text-align: right;\n",
              "    }\n",
              "</style>\n",
              "<table border=\"1\" class=\"dataframe\">\n",
              "  <thead>\n",
              "    <tr style=\"text-align: right;\">\n",
              "      <th></th>\n",
              "      <th>enc_input</th>\n",
              "      <th>dec_input</th>\n",
              "      <th>dec_output</th>\n",
              "    </tr>\n",
              "  </thead>\n",
              "  <tbody>\n",
              "    <tr>\n",
              "      <th>144583</th>\n",
              "      <td>you are meeting your friends and going to a ba...</td>\n",
              "      <td>&lt; you are meeting your friends and going to a ...</td>\n",
              "      <td>you are meeting your friends and going to a ba...</td>\n",
              "    </tr>\n",
              "    <tr>\n",
              "      <th>455599</th>\n",
              "      <td>but since i got here i have not studied a lot</td>\n",
              "      <td>&lt; but since i got here i have not studied  ver...</td>\n",
              "      <td>but since i got here i have not studied  very ...</td>\n",
              "    </tr>\n",
              "    <tr>\n",
              "      <th>13922</th>\n",
              "      <td>we had lunch with them in a house flooded by t...</td>\n",
              "      <td>&lt; we had lunch with those whose house had been...</td>\n",
              "      <td>we had lunch with those whose house had been f...</td>\n",
              "    </tr>\n",
              "    <tr>\n",
              "      <th>128968</th>\n",
              "      <td>an professor introduced me to her</td>\n",
              "      <td>&lt; a professor introduced me to her</td>\n",
              "      <td>a professor introduced me to her &gt;</td>\n",
              "    </tr>\n",
              "    <tr>\n",
              "      <th>402800</th>\n",
              "      <td>his companions were having drinks in front of ...</td>\n",
              "      <td>&lt; his companions were having drinks in front o...</td>\n",
              "      <td>his companions were having drinks in front of ...</td>\n",
              "    </tr>\n",
              "    <tr>\n",
              "      <th>...</th>\n",
              "      <td>...</td>\n",
              "      <td>...</td>\n",
              "      <td>...</td>\n",
              "    </tr>\n",
              "    <tr>\n",
              "      <th>352632</th>\n",
              "      <td>so many people is suffuring from hunger povert...</td>\n",
              "      <td>&lt; so many people are suffering from hunger and...</td>\n",
              "      <td>so many people are suffering from hunger and p...</td>\n",
              "    </tr>\n",
              "    <tr>\n",
              "      <th>191449</th>\n",
              "      <td>i wish i could be of some help during this big...</td>\n",
              "      <td>&lt; i hope to offer some help in this big change...</td>\n",
              "      <td>i hope to offer some help in this big change b...</td>\n",
              "    </tr>\n",
              "    <tr>\n",
              "      <th>179722</th>\n",
              "      <td>anyway what i hope is he will come to shanghai...</td>\n",
              "      <td>&lt; anyway what i hope is that he will come to s...</td>\n",
              "      <td>anyway what i hope is that he will come to sha...</td>\n",
              "    </tr>\n",
              "    <tr>\n",
              "      <th>38604</th>\n",
              "      <td>i just saw something on the facebook</td>\n",
              "      <td>&lt; i just saw something on facebook</td>\n",
              "      <td>i just saw something on facebook &gt;</td>\n",
              "    </tr>\n",
              "    <tr>\n",
              "      <th>388473</th>\n",
              "      <td>and then i started to make my stole with white...</td>\n",
              "      <td>&lt; and then i started to knitmyself a stole usi...</td>\n",
              "      <td>and then i started to knitmyself a stole using...</td>\n",
              "    </tr>\n",
              "  </tbody>\n",
              "</table>\n",
              "<p>1000 rows × 3 columns</p>\n",
              "</div>\n",
              "      <button class=\"colab-df-convert\" onclick=\"convertToInteractive('df-134b4830-f39a-4fef-9b21-f35a36f07faa')\"\n",
              "              title=\"Convert this dataframe to an interactive table.\"\n",
              "              style=\"display:none;\">\n",
              "        \n",
              "  <svg xmlns=\"http://www.w3.org/2000/svg\" height=\"24px\"viewBox=\"0 0 24 24\"\n",
              "       width=\"24px\">\n",
              "    <path d=\"M0 0h24v24H0V0z\" fill=\"none\"/>\n",
              "    <path d=\"M18.56 5.44l.94 2.06.94-2.06 2.06-.94-2.06-.94-.94-2.06-.94 2.06-2.06.94zm-11 1L8.5 8.5l.94-2.06 2.06-.94-2.06-.94L8.5 2.5l-.94 2.06-2.06.94zm10 10l.94 2.06.94-2.06 2.06-.94-2.06-.94-.94-2.06-.94 2.06-2.06.94z\"/><path d=\"M17.41 7.96l-1.37-1.37c-.4-.4-.92-.59-1.43-.59-.52 0-1.04.2-1.43.59L10.3 9.45l-7.72 7.72c-.78.78-.78 2.05 0 2.83L4 21.41c.39.39.9.59 1.41.59.51 0 1.02-.2 1.41-.59l7.78-7.78 2.81-2.81c.8-.78.8-2.07 0-2.86zM5.41 20L4 18.59l7.72-7.72 1.47 1.35L5.41 20z\"/>\n",
              "  </svg>\n",
              "      </button>\n",
              "      \n",
              "  <style>\n",
              "    .colab-df-container {\n",
              "      display:flex;\n",
              "      flex-wrap:wrap;\n",
              "      gap: 12px;\n",
              "    }\n",
              "\n",
              "    .colab-df-convert {\n",
              "      background-color: #E8F0FE;\n",
              "      border: none;\n",
              "      border-radius: 50%;\n",
              "      cursor: pointer;\n",
              "      display: none;\n",
              "      fill: #1967D2;\n",
              "      height: 32px;\n",
              "      padding: 0 0 0 0;\n",
              "      width: 32px;\n",
              "    }\n",
              "\n",
              "    .colab-df-convert:hover {\n",
              "      background-color: #E2EBFA;\n",
              "      box-shadow: 0px 1px 2px rgba(60, 64, 67, 0.3), 0px 1px 3px 1px rgba(60, 64, 67, 0.15);\n",
              "      fill: #174EA6;\n",
              "    }\n",
              "\n",
              "    [theme=dark] .colab-df-convert {\n",
              "      background-color: #3B4455;\n",
              "      fill: #D2E3FC;\n",
              "    }\n",
              "\n",
              "    [theme=dark] .colab-df-convert:hover {\n",
              "      background-color: #434B5C;\n",
              "      box-shadow: 0px 1px 3px 1px rgba(0, 0, 0, 0.15);\n",
              "      filter: drop-shadow(0px 1px 2px rgba(0, 0, 0, 0.3));\n",
              "      fill: #FFFFFF;\n",
              "    }\n",
              "  </style>\n",
              "\n",
              "      <script>\n",
              "        const buttonEl =\n",
              "          document.querySelector('#df-134b4830-f39a-4fef-9b21-f35a36f07faa button.colab-df-convert');\n",
              "        buttonEl.style.display =\n",
              "          google.colab.kernel.accessAllowed ? 'block' : 'none';\n",
              "\n",
              "        async function convertToInteractive(key) {\n",
              "          const element = document.querySelector('#df-134b4830-f39a-4fef-9b21-f35a36f07faa');\n",
              "          const dataTable =\n",
              "            await google.colab.kernel.invokeFunction('convertToInteractive',\n",
              "                                                     [key], {});\n",
              "          if (!dataTable) return;\n",
              "\n",
              "          const docLinkHtml = 'Like what you see? Visit the ' +\n",
              "            '<a target=\"_blank\" href=https://colab.research.google.com/notebooks/data_table.ipynb>data table notebook</a>'\n",
              "            + ' to learn more about interactive tables.';\n",
              "          element.innerHTML = '';\n",
              "          dataTable['output_type'] = 'display_data';\n",
              "          await google.colab.output.renderOutput(dataTable, element);\n",
              "          const docLink = document.createElement('div');\n",
              "          docLink.innerHTML = docLinkHtml;\n",
              "          element.appendChild(docLink);\n",
              "        }\n",
              "      </script>\n",
              "    </div>\n",
              "  </div>\n",
              "  "
            ]
          },
          "metadata": {},
          "execution_count": 16
        }
      ]
    },
    {
      "cell_type": "markdown",
      "metadata": {
        "id": "4b4ffe0f"
      },
      "source": [
        "## Tokenization"
      ],
      "id": "4b4ffe0f"
    },
    {
      "cell_type": "code",
      "metadata": {
        "id": "6a248032"
      },
      "source": [
        "from tensorflow.keras.preprocessing.text import Tokenizer"
      ],
      "id": "6a248032",
      "execution_count": null,
      "outputs": []
    },
    {
      "cell_type": "code",
      "metadata": {
        "id": "a6f538d5"
      },
      "source": [
        "## TOKENIZER FOR ENCODER INPUT\n",
        "tk_inp = Tokenizer(char_level=True )\n",
        "tk_inp.fit_on_texts(df_train.enc_input.apply(str))"
      ],
      "id": "a6f538d5",
      "execution_count": null,
      "outputs": []
    },
    {
      "cell_type": "code",
      "metadata": {
        "id": "3e953882"
      },
      "source": [
        "# TOKENIZER FOR DECODER INPUT\n",
        "tk_out = Tokenizer(filters='!\"#$%&()*+,-./:;=?@[\\\\]^_`{|}~\\t\\n' , char_level=True)\n",
        "tk_out.fit_on_texts(df_train.dec_input.apply(str))"
      ],
      "id": "3e953882",
      "execution_count": null,
      "outputs": []
    },
    {
      "cell_type": "markdown",
      "metadata": {
        "id": "45d861da"
      },
      "source": [
        "## Dataset"
      ],
      "id": "45d861da"
    },
    {
      "cell_type": "code",
      "metadata": {
        "id": "0a905874"
      },
      "source": [
        "## THIS CLASS CONVERTS TEXT DATA TO INTEGER SEQUENCES AND RETURNS THE PADDED SEQUENCES\n",
        "class Dataset :\n",
        "    def __init__(self, data , tk_inp ,tk_out, max_len):\n",
        "        self.encoder_inp = data[\"enc_input\"].apply(str).values\n",
        "        self.decoder_inp = data[\"dec_input\"].apply(str).values\n",
        "        self.decoder_out = data[\"dec_output\"].apply(str).values\n",
        "        self.tk_inp = tk_inp\n",
        "        self.tk_out = tk_out\n",
        "        self.max_len = max_len\n",
        "      \n",
        "        \n",
        "    def __getitem__(self,i):\n",
        "        # INPUT SEQUENCES\n",
        "        encoder_seq = self.tk_inp.texts_to_sequences([self.encoder_inp[i]])\n",
        "        # DECODER INPUT SEQUENCES \n",
        "        decoder_inp_seq = self.tk_out.texts_to_sequences([self.decoder_inp[i]])\n",
        "        # DECODER INPUT SEQUENCES\n",
        "        decoder_out_seq = self.tk_out.texts_to_sequences([self.decoder_out[i]])\n",
        "        \n",
        "        # PADDING THE ENCODER INPUT SEQUENCES\n",
        "        encoder_seq = pad_sequences(encoder_seq, padding=\"post\",maxlen = self.max_len)\n",
        "        # PADDING THE DECODER INPUT SEQUENCES\n",
        "        decoder_inp_seq = pad_sequences(decoder_inp_seq,  padding=\"post\",maxlen = self.max_len)\n",
        "        # PADDING DECODER OUTPUT SEQUENCES\n",
        "        decoder_out_seq = pad_sequences(decoder_out_seq ,  padding=\"post\",maxlen = self.max_len)\n",
        "\n",
        "        ## ONE HOT ENCODING INPUT SEQUENCES\n",
        "        encoder_seq = tf.one_hot(encoder_seq, depth= len(self.tk_inp.word_index)+1 , axis=-1 )\n",
        "        ## ONE HOT ENCODING DECODER INPUT SEQUENCES\n",
        "        decoder_inp_seq = tf.one_hot(decoder_inp_seq, depth= len(self.tk_out.word_index)+1 , axis=-1 )\n",
        "        ## ONE HOT ENCODING DECODER INPUT SEQUENCES\n",
        "        decoder_out_seq = tf.one_hot(decoder_out_seq, depth= len(self.tk_out.word_index)+1, axis=-1 )\n",
        "        return encoder_seq ,  decoder_inp_seq,  decoder_out_seq\n",
        "    \n",
        "    def __len__(self):\n",
        "        # RETURN THE LEN OF INPUT ENDODER\n",
        "        return len(self.encoder_inp)"
      ],
      "id": "0a905874",
      "execution_count": null,
      "outputs": []
    },
    {
      "cell_type": "code",
      "metadata": {
        "id": "2c9a336e"
      },
      "source": [
        "## THIS CLASS CONVERTES THE DATASET INTO THE REQUIRED BATCH SIZE\n",
        "\n",
        "class Dataloader(tf.keras.utils.Sequence):\n",
        "    def __init__(self,batch_size,dataset):\n",
        "        # INTIALIZING THE REQUIRED VARIABLES \n",
        "        self.dataset = dataset\n",
        "        self.batch_size = batch_size\n",
        "        self.totl_points = self.dataset.encoder_inp.shape[0]\n",
        "        \n",
        "    def __getitem__(self,i):\n",
        "        # STATING THE START AND STOP VATIABLE CONTAINGING INDEX VALUES FOR EACH BATCH\n",
        "        start = i * self.batch_size\n",
        "        stop = (i+1)*self.batch_size\n",
        "        \n",
        "        # PLACEHOLDERS FOR BATCHED DATA\n",
        "        batch_enc =[]\n",
        "        batch_dec_input = []\n",
        "        batch_dec_out =[]\n",
        "\n",
        "        for j in range(start,stop): \n",
        "            \n",
        "            a,b,c = self.dataset[j] \n",
        "            batch_enc.append(a[0]) \n",
        "            batch_dec_input.append(b[0])\n",
        "            batch_dec_out.append(c[0]) \n",
        "        \n",
        "        # Conveting list to array   \n",
        "        batch_enc = (np.array(batch_enc)) \n",
        "        batch_dec_input = np.array(batch_dec_input)\n",
        "        batch_dec_out = np.array(batch_dec_out)\n",
        "         ## RETURNING BATCHED DATA IN REQUIRED FORM\n",
        "        return [batch_enc , batch_dec_input],batch_dec_out\n",
        "    \n",
        "    def __len__(self):\n",
        "        # Returning the number of batches\n",
        "        return int(self.totl_points/self.batch_size)"
      ],
      "id": "2c9a336e",
      "execution_count": null,
      "outputs": []
    },
    {
      "cell_type": "markdown",
      "metadata": {
        "id": "pdUY26ULSKjO"
      },
      "source": [
        "###### WE ARE TAKING THE MAXIMUM LENGHT EQUAL TO 180 WHICH IS 99 PERCENTILE OF THE DISTRUBUTION OF CHARACTER LENGTH."
      ],
      "id": "pdUY26ULSKjO"
    },
    {
      "cell_type": "code",
      "metadata": {
        "id": "86d7d05b"
      },
      "source": [
        "# FORMING OBJECTS OF DATASET AND DATALOADER FOR TRAIN DATASET\n",
        "train_dataset = Dataset(df_train,tk_inp,tk_out,180)\n",
        "train_dataloader = Dataloader( batch_size =512, dataset=train_dataset)\n",
        "\n",
        "# FORMING OBJECTS OF DATASET AND DATALOADER FOR VALIDATION DATASET\n",
        "val_dataset = Dataset(df_val , tk_inp,tk_out,180)\n",
        "val_dataloader = Dataloader(batch_size= 512 , dataset=val_dataset)"
      ],
      "id": "86d7d05b",
      "execution_count": null,
      "outputs": []
    },
    {
      "cell_type": "markdown",
      "metadata": {
        "id": "e0abfa68"
      },
      "source": [
        "## Encoder Decoder Model"
      ],
      "id": "e0abfa68"
    },
    {
      "cell_type": "code",
      "metadata": {
        "id": "d06e5d1f"
      },
      "source": [
        "## LOADING THE TENSORFLOW LIBRARIES\n",
        "\n",
        "from tensorflow.keras import layers\n",
        "from tensorflow.keras import Model"
      ],
      "id": "d06e5d1f",
      "execution_count": null,
      "outputs": []
    },
    {
      "cell_type": "code",
      "metadata": {
        "id": "MLPLNwFyVFwt"
      },
      "source": [
        "## DEFINING THE ENCODER LAYER AS A FUNCTION\n",
        "\n",
        "def encoder( lstm_units, enc_input):\n",
        "  ##  LSTM LAYER\n",
        "  enc_lstm , enc_state_h,enc_state_c = layers.LSTM(units= lstm_units,return_sequences=True,return_state=True)(enc_input)\n",
        "  ## RETURNING THE LSTM OUTPUTS AND STATES\n",
        "  return enc_lstm , enc_state_h,enc_state_c\n",
        "\n",
        "## DEFINING THE DECODER LAYER AS A FUNCTION \n",
        "def decoder(lstm_units,enc_states, dec_input):\n",
        "  ## LSTM LAYER\n",
        "  dec_lstm, dec_state_h,dec_state_c = layers.LSTM(units=lstm_units,return_sequences=True,return_state=True)(dec_input,initial_state= enc_states)\n",
        "  ## RETURNING THE LSTM OUTPUTS AND STATES\n",
        "  return dec_lstm, dec_state_h,dec_state_c"
      ],
      "id": "MLPLNwFyVFwt",
      "execution_count": null,
      "outputs": []
    },
    {
      "cell_type": "code",
      "metadata": {
        "id": "KuXHo5dzVIOS"
      },
      "source": [
        "## DEFINING THE MODEL ARCHITECTURE\n",
        "\n",
        "# INPUT LAYER\n",
        "enc_input = layers.Input(shape=(180,38))\n",
        "# ENCODER DEFINED FORM FUNCTON ABOVE\n",
        "enc_lstm , enc_state_h,enc_state_c = encoder(256, enc_input )\n",
        "\n",
        "# DECODER INPUT LAYER\n",
        "dec_input = layers.Input(shape = (180,40))\n",
        "# DECODER DEFINED FROM ABOVE FUNCTION\n",
        "dec_lstm , dec_state_h,dec_state_c = decoder( 256 , [enc_state_h,enc_state_c] , dec_input)\n",
        "# DENCSE LAYER CONNECTOD TO DECODER OUTPUT\n",
        "dense = layers.Dense(len(tk_out.word_index)+1,activation=\"softmax\")(dec_lstm)\n",
        "\n",
        "# MODEL DEFINING\n",
        "model  = Model(inputs=[enc_input,dec_input],outputs=dense)"
      ],
      "id": "KuXHo5dzVIOS",
      "execution_count": null,
      "outputs": []
    },
    {
      "cell_type": "code",
      "metadata": {
        "colab": {
          "base_uri": "https://localhost:8080/"
        },
        "id": "33ce5c9c",
        "outputId": "58795e36-97bb-4cb2-9068-b39a487f5cbd"
      },
      "source": [
        "## MODEL SUMMARY\n",
        "model.summary()"
      ],
      "id": "33ce5c9c",
      "execution_count": null,
      "outputs": [
        {
          "output_type": "stream",
          "name": "stdout",
          "text": [
            "Model: \"model\"\n",
            "__________________________________________________________________________________________________\n",
            " Layer (type)                   Output Shape         Param #     Connected to                     \n",
            "==================================================================================================\n",
            " input_1 (InputLayer)           [(None, 180, 38)]    0           []                               \n",
            "                                                                                                  \n",
            " input_2 (InputLayer)           [(None, 180, 40)]    0           []                               \n",
            "                                                                                                  \n",
            " lstm (LSTM)                    [(None, 180, 256),   302080      ['input_1[0][0]']                \n",
            "                                 (None, 256),                                                     \n",
            "                                 (None, 256)]                                                     \n",
            "                                                                                                  \n",
            " lstm_1 (LSTM)                  [(None, 180, 256),   304128      ['input_2[0][0]',                \n",
            "                                 (None, 256),                     'lstm[0][1]',                   \n",
            "                                 (None, 256)]                     'lstm[0][2]']                   \n",
            "                                                                                                  \n",
            " dense (Dense)                  (None, 180, 40)      10280       ['lstm_1[0][0]']                 \n",
            "                                                                                                  \n",
            "==================================================================================================\n",
            "Total params: 616,488\n",
            "Trainable params: 616,488\n",
            "Non-trainable params: 0\n",
            "__________________________________________________________________________________________________\n"
          ]
        }
      ]
    },
    {
      "cell_type": "code",
      "metadata": {
        "id": "jpct2PtDjuhm"
      },
      "source": [
        "## DEFINING THE CALLBACKS\n",
        "callback =[ tf.keras.callbacks.ModelCheckpoint( \"/content/drive/MyDrive/Colab Notebooks/cs2/model_save/char_trainable_embedding/besh\",save_best_only=True,mode=\"min\" ,save_weights_only=True),\n",
        "           tf.keras.callbacks.TensorBoard(log_dir=\"logs_emb/save\", histogram_freq=1),\n",
        "           tf.keras.callbacks.EarlyStopping(monitor='val_loss',patience=5,verbose=1,min_delta=0.0001),]\n",
        "\n",
        "## STORING THE NUMBER OF STEPS IN ONE EPOCH FOR TRAIN AND VALIDATION DATASET         \n",
        "train_steps = train_dataloader.__len__()\n",
        "val_steps  = val_dataloader.__len__()\n",
        "\n",
        "# COMPILING THE MODEL\n",
        "model.compile(optimizer=\"adam\",loss='categorical_crossentropy')"
      ],
      "id": "jpct2PtDjuhm",
      "execution_count": null,
      "outputs": []
    },
    {
      "cell_type": "code",
      "metadata": {
        "colab": {
          "base_uri": "https://localhost:8080/"
        },
        "id": "vrYabm0kZbLv",
        "outputId": "80e8d67a-98b7-49e6-d264-adc14257eaeb"
      },
      "source": [
        "history = model.fit(train_dataloader,steps_per_epoch=train_steps,epochs=10,validation_data = val_dataloader,validation_steps =val_steps,callbacks=callback)"
      ],
      "id": "vrYabm0kZbLv",
      "execution_count": null,
      "outputs": [
        {
          "output_type": "stream",
          "name": "stdout",
          "text": [
            "Epoch 1/10\n",
            "157/157 [==============================] - 369s 2s/step - loss: 1.0331 - val_loss: 0.9849\n",
            "Epoch 2/10\n",
            "157/157 [==============================] - 314s 2s/step - loss: 0.9620 - val_loss: 0.9372\n",
            "Epoch 3/10\n",
            "157/157 [==============================] - 310s 2s/step - loss: 0.9255 - val_loss: 0.9104\n",
            "Epoch 4/10\n",
            "157/157 [==============================] - 305s 2s/step - loss: 0.9044 - val_loss: 0.8931\n",
            "Epoch 5/10\n",
            "157/157 [==============================] - 306s 2s/step - loss: 0.8866 - val_loss: 0.8748\n",
            "Epoch 6/10\n",
            "157/157 [==============================] - 305s 2s/step - loss: 0.8669 - val_loss: 0.8542\n",
            "Epoch 7/10\n",
            "157/157 [==============================] - 312s 2s/step - loss: 0.8462 - val_loss: 0.8350\n",
            "Epoch 8/10\n",
            "157/157 [==============================] - 314s 2s/step - loss: 0.8276 - val_loss: 0.8171\n",
            "Epoch 9/10\n",
            "157/157 [==============================] - 319s 2s/step - loss: 0.8101 - val_loss: 0.7964\n",
            "Epoch 10/10\n",
            "157/157 [==============================] - 316s 2s/step - loss: 0.7896 - val_loss: 0.7811\n"
          ]
        }
      ]
    },
    {
      "cell_type": "code",
      "metadata": {
        "colab": {
          "base_uri": "https://localhost:8080/",
          "height": 390
        },
        "id": "HiQBQ9XRPKkG",
        "outputId": "5a1cccf9-b5b1-41bd-9fc3-ae0fbfdea09b"
      },
      "source": [
        "tf.keras.utils.plot_model(model,show_shapes=True)"
      ],
      "id": "HiQBQ9XRPKkG",
      "execution_count": null,
      "outputs": [
        {
          "output_type": "execute_result",
          "data": {
            "text/plain": [
              "<IPython.core.display.Image object>"
            ],
            "image/png": "[encoded data removed]"
          },
          "metadata": {},
          "execution_count": 32
        }
      ]
    },
    {
      "cell_type": "code",
      "metadata": {
        "id": "LFG4MRvhLlUi",
        "colab": {
          "base_uri": "https://localhost:8080/"
        },
        "outputId": "09e14d7b-0ec9-435e-c20a-71d8f110a669"
      },
      "source": [
        "# LOADING THE WEIGHTS FOR BEST MODEL\n",
        "\n",
        "model.load_weights(\"/content/drive/MyDrive/Colab Notebooks/cs2/model_save/char_trainable_embedding/besh\")"
      ],
      "id": "LFG4MRvhLlUi",
      "execution_count": null,
      "outputs": [
        {
          "output_type": "execute_result",
          "data": {
            "text/plain": [
              "<tensorflow.python.training.tracking.util.CheckpointLoadStatus at 0x7f3cf2249210>"
            ]
          },
          "metadata": {},
          "execution_count": 36
        }
      ]
    },
    {
      "cell_type": "code",
      "metadata": {
        "id": "3967f5b9"
      },
      "source": [
        "## THIS FUNCTION IS USED IN THE INFERENCE TIME TO PREDICT THE RESULTS GIVEN THE INPUT TEXT\n",
        "\n",
        "def predict(inp , model):\n",
        "    ##  TAKES INPUT AS TEXT AND THE MODEL\n",
        "\n",
        "    # CONVERT TEXT INPUT TO SEQUENCES \n",
        "    seq = tk_inp.texts_to_sequences([inp])\n",
        "    # PADDING THE SEQUENCE\n",
        "\n",
        "    seq = pad_sequences(seq,maxlen = 180,padding=\"post\")\n",
        "    ## INITIAL STATES FOR ENCODER\n",
        "    state = [tf.zeros(shape=(1,256)),tf.zeros(shape= (1,256))]\n",
        "    # SEQUENCE TO ONE HOT ENCODER VECORS\n",
        "    enc_inp = tf.one_hot(seq , depth= (len(tk_inp.word_index)+1) , axis=-1 )\n",
        "    # PASSING EMBBEDDED SEQUENCES TO LSTM LAYER\n",
        "    enc_output,state_h,state_c= model.layers[2](enc_inp,state)\n",
        "\n",
        "    # PLACE HOLDER FOR PREDECTED WORDS\n",
        "    pred = []\n",
        "    # PLACE HOLDER FOR STATES \n",
        "    input_state = [state_h,state_c]\n",
        "    # CURRENT VECTOR TO BE PASSED TO DECODER \n",
        "    current_vec = tf.convert_to_tensor([[19]],dtype=\"int32\")\n",
        "    for i in range(180):\n",
        "        ## CONVERT THE CURRENT VECTOR SEQUENCE WORD TO EMBEDDINGS\n",
        "        dec_inp = tf.one_hot(current_vec , depth= (len(tk_out.word_index)+1) , axis=-1 )\n",
        "         ## PASSING EMBEDDED VECTOR TO DECODER LSTM LAYER\n",
        "        dec_output,dec_state_h,dec_state_c = model.layers[3](dec_inp , input_state)\n",
        "        # PASSING DECODER OUTPUT TO DENSE LAYER\n",
        "        dense = model.layers[4](dec_output)\n",
        "        # SELECTING INDEX OF MAXIMUM DENSE OUTPUT AS CURRENT VECTOR\n",
        "        current_vec = np.argmax(dense ,axis = -1)\n",
        "        # UPDATING THE INPUT STATES\n",
        "        input_state = [dec_state_h,dec_state_c]\n",
        "        # APPENDING THE ACTUAL TEXT TO \"pred\" VARIABLE\n",
        "        pred.append(tk_out.index_word[current_vec[0][0]])\n",
        "         ## IF THE CURRENT VECTOR IS \"<end>\" BREAK THE LOOP\n",
        "        if tk_out.index_word[current_vec[0][0]]==\">\":\n",
        "            break\n",
        "     ## RETURN THE JOINED STRING IN LIST \"pred\"\n",
        "    return \"\".join(pred)"
      ],
      "id": "3967f5b9",
      "execution_count": null,
      "outputs": []
    },
    {
      "cell_type": "markdown",
      "metadata": {
        "id": "pNRtSk0Pk5nz"
      },
      "source": [
        "## PREDICTIONS FOR TEST DATASET"
      ],
      "id": "pNRtSk0Pk5nz"
    },
    {
      "cell_type": "code",
      "metadata": {
        "colab": {
          "base_uri": "https://localhost:8080/"
        },
        "id": "xassbnl5Ztnx",
        "outputId": "21b52cec-1652-4680-e447-309808a94aaa"
      },
      "source": [
        "print(\"INPUT SENTENCE ===> \",df_test.enc_input.values[19])\n",
        "print(\"PREDICTED SENTENCE ===> \",predict(df_test.enc_input.values[19],model))\n",
        "print(\"ACTUAL SENTENCE ===> \",df_test.dec_output.values[19])"
      ],
      "id": "xassbnl5Ztnx",
      "execution_count": null,
      "outputs": [
        {
          "output_type": "stream",
          "name": "stdout",
          "text": [
            "INPUT SENTENCE ===>  one day i was in time for the final train\n",
            "PREDICTED SENTENCE ===>  i a o o o o o o o o o o o o o o o o o o o o o o o o o o o o o o o o o o o o o o o o o o o o o o o o o o o o o o o o o o o o o o o o o o o o o o o o o o o o o o o o o o o o o o o o \n",
            "ACTUAL SENTENCE ===>  one day i was just on time for the final train >\n"
          ]
        }
      ]
    },
    {
      "cell_type": "code",
      "metadata": {
        "colab": {
          "base_uri": "https://localhost:8080/"
        },
        "id": "5W5TvCvraLxR",
        "outputId": "6515f17f-0a60-4979-f126-5e830b565b14"
      },
      "source": [
        "print(\"INPUT SENTENCE ===> \",df_test.enc_input.values[50])\n",
        "print(\"PREDICTED SENTENCE ===> \",predict(df_test.enc_input.values[50],model))\n",
        "print(\"ACTUAL SENTENCE ===> \",df_test.dec_output.values[50])"
      ],
      "id": "5W5TvCvraLxR",
      "execution_count": null,
      "outputs": [
        {
          "output_type": "stream",
          "name": "stdout",
          "text": [
            "INPUT SENTENCE ===>  i found that some of my firends had been here\n",
            "PREDICTED SENTENCE ===>  i a o o o o o o o o o o o o o o o o o o o o o o o o o o o o o o o o o o o o o o o o o o o o o o o o o o o o o o o o o o o o o o o o o o o o o o o o o o o o o o o o o o o o o o o o \n",
            "ACTUAL SENTENCE ===>  i found that some of my friends had been here >\n"
          ]
        }
      ]
    },
    {
      "cell_type": "markdown",
      "metadata": {
        "id": "7VdqLM_nQSY0"
      },
      "source": [
        "## INFERENCE TIME"
      ],
      "id": "7VdqLM_nQSY0"
    },
    {
      "cell_type": "code",
      "metadata": {
        "colab": {
          "base_uri": "https://localhost:8080/",
          "height": 88
        },
        "id": "mMBUqus1QSJ_",
        "outputId": "207315fc-1322-492a-c422-83e761229f0d"
      },
      "source": [
        "%%time\n",
        "predict(df_test.enc_input.values[50],model)"
      ],
      "id": "mMBUqus1QSJ_",
      "execution_count": null,
      "outputs": [
        {
          "output_type": "stream",
          "name": "stdout",
          "text": [
            "CPU times: user 1.39 s, sys: 67.4 ms, total: 1.45 s\n",
            "Wall time: 1.41 s\n"
          ]
        },
        {
          "output_type": "execute_result",
          "data": {
            "text/plain": [
              "'i a o o o o o o o o o o o o o o o o o o o o o o o o o o o o o o o o o o o o o o o o o o o o o o o o o o o o o o o o o o o o o o o o o o o o o o o o o o o o o o o o o o o o o o o o '"
            ],
            "application/vnd.google.colaboratory.intrinsic+json": {
              "type": "string"
            }
          },
          "metadata": {},
          "execution_count": 40
        }
      ]
    },
    {
      "cell_type": "markdown",
      "metadata": {
        "id": "1Rrc2qI4xVzR"
      },
      "source": [
        "## BELU Score"
      ],
      "id": "1Rrc2qI4xVzR"
    },
    {
      "cell_type": "code",
      "metadata": {
        "id": "WCbv5gKGxexg"
      },
      "source": [
        "import nltk.translate.bleu_score as bleu"
      ],
      "id": "WCbv5gKGxexg",
      "execution_count": null,
      "outputs": []
    },
    {
      "cell_type": "code",
      "metadata": {
        "colab": {
          "base_uri": "https://localhost:8080/"
        },
        "id": "aIXHF3jw5DEg",
        "outputId": "30e9ea0f-0cb5-48b6-8747-ad96046f5737"
      },
      "source": [
        "# VALIDATION BELU SCORE\n",
        "BLEU = []\n",
        "test_data = df_val.loc[np.random.choice(df_val.index,size = 2000)]\n",
        "for ind,i in tqdm(test_data.iterrows(),position=0):\n",
        "    try:\n",
        "        pred = predict(str(i.enc_input),model).split()\n",
        "        act = [str(i.dec_output).split()]\n",
        "        b =bleu.sentence_bleu(act,pred)\n",
        "        BLEU.append(b)\n",
        "    except:\n",
        "        continue"
      ],
      "id": "aIXHF3jw5DEg",
      "execution_count": null,
      "outputs": [
        {
          "output_type": "stream",
          "name": "stderr",
          "text": [
            "2000it [46:21,  1.39s/it]\n"
          ]
        }
      ]
    },
    {
      "cell_type": "code",
      "metadata": {
        "colab": {
          "base_uri": "https://localhost:8080/"
        },
        "id": "qkNCVp6txaes",
        "outputId": "8dce2146-be15-43c7-9eca-c8851d117b76"
      },
      "source": [
        "print(\"Triain BELU Score = \",np.mean(BLEU))"
      ],
      "id": "qkNCVp6txaes",
      "execution_count": null,
      "outputs": [
        {
          "output_type": "stream",
          "name": "stdout",
          "text": [
            "Triain BELU Score =  0.21056889515735847\n"
          ]
        }
      ]
    }
  ]
}