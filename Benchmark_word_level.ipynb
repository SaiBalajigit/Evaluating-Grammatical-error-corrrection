{
  "nbformat": 4,
  "nbformat_minor": 5,
  "metadata": {
    "kernelspec": {
      "display_name": "Python 3",
      "language": "python",
      "name": "python3"
    },
    "language_info": {
      "codemirror_mode": {
        "name": "ipython",
        "version": 3
      },
      "file_extension": ".py",
      "mimetype": "text/x-python",
      "name": "python",
      "nbconvert_exporter": "python",
      "pygments_lexer": "ipython3",
      "version": "3.7.6"
    },
    "colab": {
      "provenance": [],
      "machine_shape": "hm"
    },
    "accelerator": "GPU"
  },
  "cells": [
    {
      "cell_type": "markdown",
      "metadata": {
        "id": "3DMBfFOYRnzv"
      },
      "source": [
        "# ENCODER DECODER MODEL FOR WORD LEVEL EMBEDDING"
      ],
      "id": "3DMBfFOYRnzv"
    },
    {
      "cell_type": "code",
      "metadata": {
        "id": "a083ffd7"
      },
      "source": [
        "## LOADING THE REQUIRED LIBRARIES\n",
        "import pandas as pd\n",
        "import numpy as np\n",
        "import os\n",
        "import re\n",
        "import matplotlib.pyplot as plt\n",
        "import seaborn as sns\n",
        "import warnings \n",
        "warnings.filterwarnings('ignore')\n",
        "from tqdm import tqdm \n",
        "import tensorflow as tf\n",
        "from  tensorflow.keras.preprocessing.sequence import pad_sequences\n",
        "from  sklearn.model_selection import train_test_split\n",
        "from tqdm import tqdm"
      ],
      "id": "a083ffd7",
      "execution_count": null,
      "outputs": []
    },
    {
      "cell_type": "markdown",
      "metadata": {
        "id": "7345a1b8"
      },
      "source": [
        "## Loading Dataset"
      ],
      "id": "7345a1b8"
    },
    {
      "cell_type": "code",
      "metadata": {
        "colab": {
          "base_uri": "https://localhost:8080/"
        },
        "id": "47TEFxlLGkHY",
        "outputId": "11348c59-c6de-46a3-d0a7-67bae498d791"
      },
      "source": [
        "from google.colab import drive\n",
        "drive.mount('/content/drive')"
      ],
      "id": "47TEFxlLGkHY",
      "execution_count": null,
      "outputs": [
        {
          "output_type": "stream",
          "name": "stdout",
          "text": [
            "Mounted at /content/drive\n"
          ]
        }
      ]
    },
    {
      "cell_type": "code",
      "metadata": {
        "colab": {
          "base_uri": "https://localhost:8080/",
          "height": 423
        },
        "id": "4f2b8072",
        "outputId": "ed7de7f5-0437-4503-d931-8c00ccc5cd7d"
      },
      "source": [
        "## LOADING THE PROCESSED DATASET  \n",
        "\n",
        "df= pd.read_csv(\"/content/drive/MyDrive/DL_JComp/processed_data.csv\")\n",
        "df.columns = [\"enc_input\",\"dec_input\"] \n",
        "df[\"dec_output\"] = df.dec_input\n",
        "df"
      ],
      "id": "4f2b8072",
      "execution_count": null,
      "outputs": [
        {
          "output_type": "execute_result",
          "data": {
            "text/plain": [
              "                                                enc_input  \\\n",
              "0          and he took in my favorite subject like soccer   \n",
              "1          actually who let me know about lang  8 was him   \n",
              "2             his kanji is ability is much better than me   \n",
              "3       we have known each other for only half a year ...   \n",
              "4         i heard a sentence last night when i watched tv   \n",
              "...                                                   ...   \n",
              "503896  i like thailand language because that pronounc...   \n",
              "503897  i ate kaomangai  rise with boild chikin  tomya...   \n",
              "503898  i think it is important thing to become to lik...   \n",
              "503899          yesterday i went to umeda station to date   \n",
              "503900  it said she want to make the meeting time at e...   \n",
              "\n",
              "                                                dec_input  \\\n",
              "0         and he took in my favorite subjects like soccer   \n",
              "1       actually he was the one who let me know about ...   \n",
              "2              his kanji ability is much better than mine   \n",
              "3       we have known each other for only half a year ...   \n",
              "4       i heard a sentence last night when i was watch...   \n",
              "...                                                   ...   \n",
              "503896  i like thai because the pronunciation sounds cute   \n",
              "503897  i ate kaomangai  rice with boiled chickin  tom...   \n",
              "503898  i think it is important to like coriander in o...   \n",
              "503899       i went to umeda station for dating yesterday   \n",
              "503900  she said she want to change the meeting time t...   \n",
              "\n",
              "                                               dec_output  \n",
              "0         and he took in my favorite subjects like soccer  \n",
              "1       actually he was the one who let me know about ...  \n",
              "2              his kanji ability is much better than mine  \n",
              "3       we have known each other for only half a year ...  \n",
              "4       i heard a sentence last night when i was watch...  \n",
              "...                                                   ...  \n",
              "503896  i like thai because the pronunciation sounds cute  \n",
              "503897  i ate kaomangai  rice with boiled chickin  tom...  \n",
              "503898  i think it is important to like coriander in o...  \n",
              "503899       i went to umeda station for dating yesterday  \n",
              "503900  she said she want to change the meeting time t...  \n",
              "\n",
              "[503901 rows x 3 columns]"
            ],
            "text/html": [
              "\n",
              "  <div id=\"df-3a52791a-4f8f-49b8-8bfb-2da04540f38e\">\n",
              "    <div class=\"colab-df-container\">\n",
              "      <div>\n",
              "<style scoped>\n",
              "    .dataframe tbody tr th:only-of-type {\n",
              "        vertical-align: middle;\n",
              "    }\n",
              "\n",
              "    .dataframe tbody tr th {\n",
              "        vertical-align: top;\n",
              "    }\n",
              "\n",
              "    .dataframe thead th {\n",
              "        text-align: right;\n",
              "    }\n",
              "</style>\n",
              "<table border=\"1\" class=\"dataframe\">\n",
              "  <thead>\n",
              "    <tr style=\"text-align: right;\">\n",
              "      <th></th>\n",
              "      <th>enc_input</th>\n",
              "      <th>dec_input</th>\n",
              "      <th>dec_output</th>\n",
              "    </tr>\n",
              "  </thead>\n",
              "  <tbody>\n",
              "    <tr>\n",
              "      <th>0</th>\n",
              "      <td>and he took in my favorite subject like soccer</td>\n",
              "      <td>and he took in my favorite subjects like soccer</td>\n",
              "      <td>and he took in my favorite subjects like soccer</td>\n",
              "    </tr>\n",
              "    <tr>\n",
              "      <th>1</th>\n",
              "      <td>actually who let me know about lang  8 was him</td>\n",
              "      <td>actually he was the one who let me know about ...</td>\n",
              "      <td>actually he was the one who let me know about ...</td>\n",
              "    </tr>\n",
              "    <tr>\n",
              "      <th>2</th>\n",
              "      <td>his kanji is ability is much better than me</td>\n",
              "      <td>his kanji ability is much better than mine</td>\n",
              "      <td>his kanji ability is much better than mine</td>\n",
              "    </tr>\n",
              "    <tr>\n",
              "      <th>3</th>\n",
              "      <td>we have known each other for only half a year ...</td>\n",
              "      <td>we have known each other for only half a year ...</td>\n",
              "      <td>we have known each other for only half a year ...</td>\n",
              "    </tr>\n",
              "    <tr>\n",
              "      <th>4</th>\n",
              "      <td>i heard a sentence last night when i watched tv</td>\n",
              "      <td>i heard a sentence last night when i was watch...</td>\n",
              "      <td>i heard a sentence last night when i was watch...</td>\n",
              "    </tr>\n",
              "    <tr>\n",
              "      <th>...</th>\n",
              "      <td>...</td>\n",
              "      <td>...</td>\n",
              "      <td>...</td>\n",
              "    </tr>\n",
              "    <tr>\n",
              "      <th>503896</th>\n",
              "      <td>i like thailand language because that pronounc...</td>\n",
              "      <td>i like thai because the pronunciation sounds cute</td>\n",
              "      <td>i like thai because the pronunciation sounds cute</td>\n",
              "    </tr>\n",
              "    <tr>\n",
              "      <th>503897</th>\n",
              "      <td>i ate kaomangai  rise with boild chikin  tomya...</td>\n",
              "      <td>i ate kaomangai  rice with boiled chickin  tom...</td>\n",
              "      <td>i ate kaomangai  rice with boiled chickin  tom...</td>\n",
              "    </tr>\n",
              "    <tr>\n",
              "      <th>503898</th>\n",
              "      <td>i think it is important thing to become to lik...</td>\n",
              "      <td>i think it is important to like coriander in o...</td>\n",
              "      <td>i think it is important to like coriander in o...</td>\n",
              "    </tr>\n",
              "    <tr>\n",
              "      <th>503899</th>\n",
              "      <td>yesterday i went to umeda station to date</td>\n",
              "      <td>i went to umeda station for dating yesterday</td>\n",
              "      <td>i went to umeda station for dating yesterday</td>\n",
              "    </tr>\n",
              "    <tr>\n",
              "      <th>503900</th>\n",
              "      <td>it said she want to make the meeting time at e...</td>\n",
              "      <td>she said she want to change the meeting time t...</td>\n",
              "      <td>she said she want to change the meeting time t...</td>\n",
              "    </tr>\n",
              "  </tbody>\n",
              "</table>\n",
              "<p>503901 rows × 3 columns</p>\n",
              "</div>\n",
              "      <button class=\"colab-df-convert\" onclick=\"convertToInteractive('df-3a52791a-4f8f-49b8-8bfb-2da04540f38e')\"\n",
              "              title=\"Convert this dataframe to an interactive table.\"\n",
              "              style=\"display:none;\">\n",
              "        \n",
              "  <svg xmlns=\"http://www.w3.org/2000/svg\" height=\"24px\"viewBox=\"0 0 24 24\"\n",
              "       width=\"24px\">\n",
              "    <path d=\"M0 0h24v24H0V0z\" fill=\"none\"/>\n",
              "    <path d=\"M18.56 5.44l.94 2.06.94-2.06 2.06-.94-2.06-.94-.94-2.06-.94 2.06-2.06.94zm-11 1L8.5 8.5l.94-2.06 2.06-.94-2.06-.94L8.5 2.5l-.94 2.06-2.06.94zm10 10l.94 2.06.94-2.06 2.06-.94-2.06-.94-.94-2.06-.94 2.06-2.06.94z\"/><path d=\"M17.41 7.96l-1.37-1.37c-.4-.4-.92-.59-1.43-.59-.52 0-1.04.2-1.43.59L10.3 9.45l-7.72 7.72c-.78.78-.78 2.05 0 2.83L4 21.41c.39.39.9.59 1.41.59.51 0 1.02-.2 1.41-.59l7.78-7.78 2.81-2.81c.8-.78.8-2.07 0-2.86zM5.41 20L4 18.59l7.72-7.72 1.47 1.35L5.41 20z\"/>\n",
              "  </svg>\n",
              "      </button>\n",
              "      \n",
              "  <style>\n",
              "    .colab-df-container {\n",
              "      display:flex;\n",
              "      flex-wrap:wrap;\n",
              "      gap: 12px;\n",
              "    }\n",
              "\n",
              "    .colab-df-convert {\n",
              "      background-color: #E8F0FE;\n",
              "      border: none;\n",
              "      border-radius: 50%;\n",
              "      cursor: pointer;\n",
              "      display: none;\n",
              "      fill: #1967D2;\n",
              "      height: 32px;\n",
              "      padding: 0 0 0 0;\n",
              "      width: 32px;\n",
              "    }\n",
              "\n",
              "    .colab-df-convert:hover {\n",
              "      background-color: #E2EBFA;\n",
              "      box-shadow: 0px 1px 2px rgba(60, 64, 67, 0.3), 0px 1px 3px 1px rgba(60, 64, 67, 0.15);\n",
              "      fill: #174EA6;\n",
              "    }\n",
              "\n",
              "    [theme=dark] .colab-df-convert {\n",
              "      background-color: #3B4455;\n",
              "      fill: #D2E3FC;\n",
              "    }\n",
              "\n",
              "    [theme=dark] .colab-df-convert:hover {\n",
              "      background-color: #434B5C;\n",
              "      box-shadow: 0px 1px 3px 1px rgba(0, 0, 0, 0.15);\n",
              "      filter: drop-shadow(0px 1px 2px rgba(0, 0, 0, 0.3));\n",
              "      fill: #FFFFFF;\n",
              "    }\n",
              "  </style>\n",
              "\n",
              "      <script>\n",
              "        const buttonEl =\n",
              "          document.querySelector('#df-3a52791a-4f8f-49b8-8bfb-2da04540f38e button.colab-df-convert');\n",
              "        buttonEl.style.display =\n",
              "          google.colab.kernel.accessAllowed ? 'block' : 'none';\n",
              "\n",
              "        async function convertToInteractive(key) {\n",
              "          const element = document.querySelector('#df-3a52791a-4f8f-49b8-8bfb-2da04540f38e');\n",
              "          const dataTable =\n",
              "            await google.colab.kernel.invokeFunction('convertToInteractive',\n",
              "                                                     [key], {});\n",
              "          if (!dataTable) return;\n",
              "\n",
              "          const docLinkHtml = 'Like what you see? Visit the ' +\n",
              "            '<a target=\"_blank\" href=https://colab.research.google.com/notebooks/data_table.ipynb>data table notebook</a>'\n",
              "            + ' to learn more about interactive tables.';\n",
              "          element.innerHTML = '';\n",
              "          dataTable['output_type'] = 'display_data';\n",
              "          await google.colab.output.renderOutput(dataTable, element);\n",
              "          const docLink = document.createElement('div');\n",
              "          docLink.innerHTML = docLinkHtml;\n",
              "          element.appendChild(docLink);\n",
              "        }\n",
              "      </script>\n",
              "    </div>\n",
              "  </div>\n",
              "  "
            ]
          },
          "metadata": {},
          "execution_count": 5
        }
      ]
    },
    {
      "cell_type": "markdown",
      "metadata": {
        "id": "5682004c"
      },
      "source": [
        "## Adding start and end token"
      ],
      "id": "5682004c"
    },
    {
      "cell_type": "code",
      "metadata": {
        "colab": {
          "base_uri": "https://localhost:8080/",
          "height": 423
        },
        "id": "9cd63a6e",
        "outputId": "d5cde7f7-0d23-42e3-e5ef-0053fb7dcd15"
      },
      "source": [
        "## THE INPUTS TO THE DECODER REQUIRES SPECIAL TOKENS FOR THE START AND THE END SO WE ARE GOING TO USE \n",
        "## <start> AS BEGINING TOKEN\n",
        "## <end>  AS END TOKEN\n",
        "\n",
        "df[\"dec_input\"]= \"<start> \" + df[\"dec_input\"]\n",
        "df[\"dec_output\"] =  df[\"dec_output\"] + \" <end>\" \n",
        "df"
      ],
      "id": "9cd63a6e",
      "execution_count": null,
      "outputs": [
        {
          "output_type": "execute_result",
          "data": {
            "text/plain": [
              "                                                enc_input  \\\n",
              "0          and he took in my favorite subject like soccer   \n",
              "1          actually who let me know about lang  8 was him   \n",
              "2             his kanji is ability is much better than me   \n",
              "3       we have known each other for only half a year ...   \n",
              "4         i heard a sentence last night when i watched tv   \n",
              "...                                                   ...   \n",
              "503896  i like thailand language because that pronounc...   \n",
              "503897  i ate kaomangai  rise with boild chikin  tomya...   \n",
              "503898  i think it is important thing to become to lik...   \n",
              "503899          yesterday i went to umeda station to date   \n",
              "503900  it said she want to make the meeting time at e...   \n",
              "\n",
              "                                                dec_input  \\\n",
              "0       <start> and he took in my favorite subjects li...   \n",
              "1       <start> actually he was the one who let me kno...   \n",
              "2       <start> his kanji ability is much better than ...   \n",
              "3       <start> we have known each other for only half...   \n",
              "4       <start> i heard a sentence last night when i w...   \n",
              "...                                                   ...   \n",
              "503896  <start> i like thai because the pronunciation ...   \n",
              "503897  <start> i ate kaomangai  rice with boiled chic...   \n",
              "503898  <start> i think it is important to like corian...   \n",
              "503899  <start> i went to umeda station for dating yes...   \n",
              "503900  <start> she said she want to change the meetin...   \n",
              "\n",
              "                                               dec_output  \n",
              "0       and he took in my favorite subjects like socce...  \n",
              "1       actually he was the one who let me know about ...  \n",
              "2        his kanji ability is much better than mine <end>  \n",
              "3       we have known each other for only half a year ...  \n",
              "4       i heard a sentence last night when i was watch...  \n",
              "...                                                   ...  \n",
              "503896  i like thai because the pronunciation sounds c...  \n",
              "503897  i ate kaomangai  rice with boiled chickin  tom...  \n",
              "503898  i think it is important to like coriander in o...  \n",
              "503899  i went to umeda station for dating yesterday <...  \n",
              "503900  she said she want to change the meeting time t...  \n",
              "\n",
              "[503901 rows x 3 columns]"
            ],
            "text/html": [
              "\n",
              "  <div id=\"df-5e0c8a55-d2a2-457a-be0a-b266b9bf2261\">\n",
              "    <div class=\"colab-df-container\">\n",
              "      <div>\n",
              "<style scoped>\n",
              "    .dataframe tbody tr th:only-of-type {\n",
              "        vertical-align: middle;\n",
              "    }\n",
              "\n",
              "    .dataframe tbody tr th {\n",
              "        vertical-align: top;\n",
              "    }\n",
              "\n",
              "    .dataframe thead th {\n",
              "        text-align: right;\n",
              "    }\n",
              "</style>\n",
              "<table border=\"1\" class=\"dataframe\">\n",
              "  <thead>\n",
              "    <tr style=\"text-align: right;\">\n",
              "      <th></th>\n",
              "      <th>enc_input</th>\n",
              "      <th>dec_input</th>\n",
              "      <th>dec_output</th>\n",
              "    </tr>\n",
              "  </thead>\n",
              "  <tbody>\n",
              "    <tr>\n",
              "      <th>0</th>\n",
              "      <td>and he took in my favorite subject like soccer</td>\n",
              "      <td>&lt;start&gt; and he took in my favorite subjects li...</td>\n",
              "      <td>and he took in my favorite subjects like socce...</td>\n",
              "    </tr>\n",
              "    <tr>\n",
              "      <th>1</th>\n",
              "      <td>actually who let me know about lang  8 was him</td>\n",
              "      <td>&lt;start&gt; actually he was the one who let me kno...</td>\n",
              "      <td>actually he was the one who let me know about ...</td>\n",
              "    </tr>\n",
              "    <tr>\n",
              "      <th>2</th>\n",
              "      <td>his kanji is ability is much better than me</td>\n",
              "      <td>&lt;start&gt; his kanji ability is much better than ...</td>\n",
              "      <td>his kanji ability is much better than mine &lt;end&gt;</td>\n",
              "    </tr>\n",
              "    <tr>\n",
              "      <th>3</th>\n",
              "      <td>we have known each other for only half a year ...</td>\n",
              "      <td>&lt;start&gt; we have known each other for only half...</td>\n",
              "      <td>we have known each other for only half a year ...</td>\n",
              "    </tr>\n",
              "    <tr>\n",
              "      <th>4</th>\n",
              "      <td>i heard a sentence last night when i watched tv</td>\n",
              "      <td>&lt;start&gt; i heard a sentence last night when i w...</td>\n",
              "      <td>i heard a sentence last night when i was watch...</td>\n",
              "    </tr>\n",
              "    <tr>\n",
              "      <th>...</th>\n",
              "      <td>...</td>\n",
              "      <td>...</td>\n",
              "      <td>...</td>\n",
              "    </tr>\n",
              "    <tr>\n",
              "      <th>503896</th>\n",
              "      <td>i like thailand language because that pronounc...</td>\n",
              "      <td>&lt;start&gt; i like thai because the pronunciation ...</td>\n",
              "      <td>i like thai because the pronunciation sounds c...</td>\n",
              "    </tr>\n",
              "    <tr>\n",
              "      <th>503897</th>\n",
              "      <td>i ate kaomangai  rise with boild chikin  tomya...</td>\n",
              "      <td>&lt;start&gt; i ate kaomangai  rice with boiled chic...</td>\n",
              "      <td>i ate kaomangai  rice with boiled chickin  tom...</td>\n",
              "    </tr>\n",
              "    <tr>\n",
              "      <th>503898</th>\n",
              "      <td>i think it is important thing to become to lik...</td>\n",
              "      <td>&lt;start&gt; i think it is important to like corian...</td>\n",
              "      <td>i think it is important to like coriander in o...</td>\n",
              "    </tr>\n",
              "    <tr>\n",
              "      <th>503899</th>\n",
              "      <td>yesterday i went to umeda station to date</td>\n",
              "      <td>&lt;start&gt; i went to umeda station for dating yes...</td>\n",
              "      <td>i went to umeda station for dating yesterday &lt;...</td>\n",
              "    </tr>\n",
              "    <tr>\n",
              "      <th>503900</th>\n",
              "      <td>it said she want to make the meeting time at e...</td>\n",
              "      <td>&lt;start&gt; she said she want to change the meetin...</td>\n",
              "      <td>she said she want to change the meeting time t...</td>\n",
              "    </tr>\n",
              "  </tbody>\n",
              "</table>\n",
              "<p>503901 rows × 3 columns</p>\n",
              "</div>\n",
              "      <button class=\"colab-df-convert\" onclick=\"convertToInteractive('df-5e0c8a55-d2a2-457a-be0a-b266b9bf2261')\"\n",
              "              title=\"Convert this dataframe to an interactive table.\"\n",
              "              style=\"display:none;\">\n",
              "        \n",
              "  <svg xmlns=\"http://www.w3.org/2000/svg\" height=\"24px\"viewBox=\"0 0 24 24\"\n",
              "       width=\"24px\">\n",
              "    <path d=\"M0 0h24v24H0V0z\" fill=\"none\"/>\n",
              "    <path d=\"M18.56 5.44l.94 2.06.94-2.06 2.06-.94-2.06-.94-.94-2.06-.94 2.06-2.06.94zm-11 1L8.5 8.5l.94-2.06 2.06-.94-2.06-.94L8.5 2.5l-.94 2.06-2.06.94zm10 10l.94 2.06.94-2.06 2.06-.94-2.06-.94-.94-2.06-.94 2.06-2.06.94z\"/><path d=\"M17.41 7.96l-1.37-1.37c-.4-.4-.92-.59-1.43-.59-.52 0-1.04.2-1.43.59L10.3 9.45l-7.72 7.72c-.78.78-.78 2.05 0 2.83L4 21.41c.39.39.9.59 1.41.59.51 0 1.02-.2 1.41-.59l7.78-7.78 2.81-2.81c.8-.78.8-2.07 0-2.86zM5.41 20L4 18.59l7.72-7.72 1.47 1.35L5.41 20z\"/>\n",
              "  </svg>\n",
              "      </button>\n",
              "      \n",
              "  <style>\n",
              "    .colab-df-container {\n",
              "      display:flex;\n",
              "      flex-wrap:wrap;\n",
              "      gap: 12px;\n",
              "    }\n",
              "\n",
              "    .colab-df-convert {\n",
              "      background-color: #E8F0FE;\n",
              "      border: none;\n",
              "      border-radius: 50%;\n",
              "      cursor: pointer;\n",
              "      display: none;\n",
              "      fill: #1967D2;\n",
              "      height: 32px;\n",
              "      padding: 0 0 0 0;\n",
              "      width: 32px;\n",
              "    }\n",
              "\n",
              "    .colab-df-convert:hover {\n",
              "      background-color: #E2EBFA;\n",
              "      box-shadow: 0px 1px 2px rgba(60, 64, 67, 0.3), 0px 1px 3px 1px rgba(60, 64, 67, 0.15);\n",
              "      fill: #174EA6;\n",
              "    }\n",
              "\n",
              "    [theme=dark] .colab-df-convert {\n",
              "      background-color: #3B4455;\n",
              "      fill: #D2E3FC;\n",
              "    }\n",
              "\n",
              "    [theme=dark] .colab-df-convert:hover {\n",
              "      background-color: #434B5C;\n",
              "      box-shadow: 0px 1px 3px 1px rgba(0, 0, 0, 0.15);\n",
              "      filter: drop-shadow(0px 1px 2px rgba(0, 0, 0, 0.3));\n",
              "      fill: #FFFFFF;\n",
              "    }\n",
              "  </style>\n",
              "\n",
              "      <script>\n",
              "        const buttonEl =\n",
              "          document.querySelector('#df-5e0c8a55-d2a2-457a-be0a-b266b9bf2261 button.colab-df-convert');\n",
              "        buttonEl.style.display =\n",
              "          google.colab.kernel.accessAllowed ? 'block' : 'none';\n",
              "\n",
              "        async function convertToInteractive(key) {\n",
              "          const element = document.querySelector('#df-5e0c8a55-d2a2-457a-be0a-b266b9bf2261');\n",
              "          const dataTable =\n",
              "            await google.colab.kernel.invokeFunction('convertToInteractive',\n",
              "                                                     [key], {});\n",
              "          if (!dataTable) return;\n",
              "\n",
              "          const docLinkHtml = 'Like what you see? Visit the ' +\n",
              "            '<a target=\"_blank\" href=https://colab.research.google.com/notebooks/data_table.ipynb>data table notebook</a>'\n",
              "            + ' to learn more about interactive tables.';\n",
              "          element.innerHTML = '';\n",
              "          dataTable['output_type'] = 'display_data';\n",
              "          await google.colab.output.renderOutput(dataTable, element);\n",
              "          const docLink = document.createElement('div');\n",
              "          docLink.innerHTML = docLinkHtml;\n",
              "          element.appendChild(docLink);\n",
              "        }\n",
              "      </script>\n",
              "    </div>\n",
              "  </div>\n",
              "  "
            ]
          },
          "metadata": {},
          "execution_count": 6
        }
      ]
    },
    {
      "cell_type": "markdown",
      "metadata": {
        "id": "54c6bfe3"
      },
      "source": [
        "## Splitting And Sampling around 100k datapoints\n",
        "\n",
        "---\n",
        "##### THE TOTAL DATASET HAS 500K DATAPOINTS WHICH WILL TAKE MUCH HIGHER TRAINING TIME. THEREFORE I AM SAMPLING ONE-FIFTH OF THE TOTAL DATASET\n",
        "\n"
      ],
      "id": "54c6bfe3"
    },
    {
      "cell_type": "code",
      "metadata": {
        "id": "T1NgQRsLxM1r"
      },
      "source": [
        "df_sampled = df.sample(frac= 0.2,random_state=1)"
      ],
      "id": "T1NgQRsLxM1r",
      "execution_count": null,
      "outputs": []
    },
    {
      "cell_type": "code",
      "metadata": {
        "id": "JHbUAaYMWGMU"
      },
      "source": [
        "## ONCE THE DATA IS SAMPLED WE ARE SPLITTIND THE DATA IN TO TRAIN AND TEST\n",
        "\n",
        "df_train ,df_val = train_test_split(df_sampled,test_size=0.2,random_state = 3 )"
      ],
      "id": "JHbUAaYMWGMU",
      "execution_count": null,
      "outputs": []
    },
    {
      "cell_type": "code",
      "metadata": {
        "id": "261827ba",
        "colab": {
          "base_uri": "https://localhost:8080/",
          "height": 423
        },
        "outputId": "7ce7ec86-afb6-4001-9c23-36c951bcd046"
      },
      "source": [
        "## IN THE COLUMN WHICH HAS DECODER INPUTS ADDING \"<end>\" TOKEN TO BE LEARNED BY THE TOKENIZER\n",
        "\n",
        "df_train[\"dec_input\"].iloc[0]  = df_train.iloc[0][\"dec_input\"] + \" <end>\"\n",
        "df_train"
      ],
      "id": "261827ba",
      "execution_count": null,
      "outputs": [
        {
          "output_type": "execute_result",
          "data": {
            "text/plain": [
              "                                                enc_input  \\\n",
              "20445   and last time i went there i was not able to t...   \n",
              "501592  as you know in the japan happen big earthquake...   \n",
              "141711  after i studied the esl school in the universi...   \n",
              "240451  all muslims celebrat in  ead  because ramadan ...   \n",
              "100580              then it makes me studying even harder   \n",
              "...                                                   ...   \n",
              "139578  and i lost her strength and cheerfuness long t...   \n",
              "390117  i just can tell which one read more naturally ...   \n",
              "475596  so i buy a fiction named  the lost symbol  whi...   \n",
              "158997              i almost prepared presentations today   \n",
              "279774  i went to the naniwa yodogawa fireworks festiv...   \n",
              "\n",
              "                                                dec_input  \\\n",
              "20445   <start> and the last time i went there i was n...   \n",
              "501592  <start> as you know in japan a big earthquake ...   \n",
              "141711  <start> after i studied at the esl school in t...   \n",
              "240451  <start> all muslims celebrate in eid because r...   \n",
              "100580         <start> that makes my studying even harder   \n",
              "...                                                   ...   \n",
              "139578  <start> i lost her strength and cheerfulness a...   \n",
              "390117  <start> i just can tell which one read more na...   \n",
              "475596  <start> so i buy a fiction named  the lost sym...   \n",
              "158997  <start> i have almost prepared my presentation...   \n",
              "279774  <start> i went to the naniwa yodogawa firework...   \n",
              "\n",
              "                                               dec_output  \n",
              "20445   and the last time i went there i was not able ...  \n",
              "501592  as you know in japan a big earthquake occurred...  \n",
              "141711  after i studied at the esl school in the unive...  \n",
              "240451  all muslims celebrate in eid because ramadan i...  \n",
              "100580           that makes my studying even harder <end>  \n",
              "...                                                   ...  \n",
              "139578  i lost her strength and cheerfulness a long ti...  \n",
              "390117  i just can tell which one read more naturally ...  \n",
              "475596  so i buy a fiction named  the lost symbol  whi...  \n",
              "158997  i have almost prepared my presentations today ...  \n",
              "279774  i went to the naniwa yodogawa fireworks festiv...  \n",
              "\n",
              "[80624 rows x 3 columns]"
            ],
            "text/html": [
              "\n",
              "  <div id=\"df-097ebf4b-23ac-47fc-b043-9394c8d073a2\">\n",
              "    <div class=\"colab-df-container\">\n",
              "      <div>\n",
              "<style scoped>\n",
              "    .dataframe tbody tr th:only-of-type {\n",
              "        vertical-align: middle;\n",
              "    }\n",
              "\n",
              "    .dataframe tbody tr th {\n",
              "        vertical-align: top;\n",
              "    }\n",
              "\n",
              "    .dataframe thead th {\n",
              "        text-align: right;\n",
              "    }\n",
              "</style>\n",
              "<table border=\"1\" class=\"dataframe\">\n",
              "  <thead>\n",
              "    <tr style=\"text-align: right;\">\n",
              "      <th></th>\n",
              "      <th>enc_input</th>\n",
              "      <th>dec_input</th>\n",
              "      <th>dec_output</th>\n",
              "    </tr>\n",
              "  </thead>\n",
              "  <tbody>\n",
              "    <tr>\n",
              "      <th>20445</th>\n",
              "      <td>and last time i went there i was not able to t...</td>\n",
              "      <td>&lt;start&gt; and the last time i went there i was n...</td>\n",
              "      <td>and the last time i went there i was not able ...</td>\n",
              "    </tr>\n",
              "    <tr>\n",
              "      <th>501592</th>\n",
              "      <td>as you know in the japan happen big earthquake...</td>\n",
              "      <td>&lt;start&gt; as you know in japan a big earthquake ...</td>\n",
              "      <td>as you know in japan a big earthquake occurred...</td>\n",
              "    </tr>\n",
              "    <tr>\n",
              "      <th>141711</th>\n",
              "      <td>after i studied the esl school in the universi...</td>\n",
              "      <td>&lt;start&gt; after i studied at the esl school in t...</td>\n",
              "      <td>after i studied at the esl school in the unive...</td>\n",
              "    </tr>\n",
              "    <tr>\n",
              "      <th>240451</th>\n",
              "      <td>all muslims celebrat in  ead  because ramadan ...</td>\n",
              "      <td>&lt;start&gt; all muslims celebrate in eid because r...</td>\n",
              "      <td>all muslims celebrate in eid because ramadan i...</td>\n",
              "    </tr>\n",
              "    <tr>\n",
              "      <th>100580</th>\n",
              "      <td>then it makes me studying even harder</td>\n",
              "      <td>&lt;start&gt; that makes my studying even harder</td>\n",
              "      <td>that makes my studying even harder &lt;end&gt;</td>\n",
              "    </tr>\n",
              "    <tr>\n",
              "      <th>...</th>\n",
              "      <td>...</td>\n",
              "      <td>...</td>\n",
              "      <td>...</td>\n",
              "    </tr>\n",
              "    <tr>\n",
              "      <th>139578</th>\n",
              "      <td>and i lost her strength and cheerfuness long t...</td>\n",
              "      <td>&lt;start&gt; i lost her strength and cheerfulness a...</td>\n",
              "      <td>i lost her strength and cheerfulness a long ti...</td>\n",
              "    </tr>\n",
              "    <tr>\n",
              "      <th>390117</th>\n",
              "      <td>i just can tell which one read more naturally ...</td>\n",
              "      <td>&lt;start&gt; i just can tell which one read more na...</td>\n",
              "      <td>i just can tell which one read more naturally ...</td>\n",
              "    </tr>\n",
              "    <tr>\n",
              "      <th>475596</th>\n",
              "      <td>so i buy a fiction named  the lost symbol  whi...</td>\n",
              "      <td>&lt;start&gt; so i buy a fiction named  the lost sym...</td>\n",
              "      <td>so i buy a fiction named  the lost symbol  whi...</td>\n",
              "    </tr>\n",
              "    <tr>\n",
              "      <th>158997</th>\n",
              "      <td>i almost prepared presentations today</td>\n",
              "      <td>&lt;start&gt; i have almost prepared my presentation...</td>\n",
              "      <td>i have almost prepared my presentations today ...</td>\n",
              "    </tr>\n",
              "    <tr>\n",
              "      <th>279774</th>\n",
              "      <td>i went to the naniwa yodogawa fireworks festiv...</td>\n",
              "      <td>&lt;start&gt; i went to the naniwa yodogawa firework...</td>\n",
              "      <td>i went to the naniwa yodogawa fireworks festiv...</td>\n",
              "    </tr>\n",
              "  </tbody>\n",
              "</table>\n",
              "<p>80624 rows × 3 columns</p>\n",
              "</div>\n",
              "      <button class=\"colab-df-convert\" onclick=\"convertToInteractive('df-097ebf4b-23ac-47fc-b043-9394c8d073a2')\"\n",
              "              title=\"Convert this dataframe to an interactive table.\"\n",
              "              style=\"display:none;\">\n",
              "        \n",
              "  <svg xmlns=\"http://www.w3.org/2000/svg\" height=\"24px\"viewBox=\"0 0 24 24\"\n",
              "       width=\"24px\">\n",
              "    <path d=\"M0 0h24v24H0V0z\" fill=\"none\"/>\n",
              "    <path d=\"M18.56 5.44l.94 2.06.94-2.06 2.06-.94-2.06-.94-.94-2.06-.94 2.06-2.06.94zm-11 1L8.5 8.5l.94-2.06 2.06-.94-2.06-.94L8.5 2.5l-.94 2.06-2.06.94zm10 10l.94 2.06.94-2.06 2.06-.94-2.06-.94-.94-2.06-.94 2.06-2.06.94z\"/><path d=\"M17.41 7.96l-1.37-1.37c-.4-.4-.92-.59-1.43-.59-.52 0-1.04.2-1.43.59L10.3 9.45l-7.72 7.72c-.78.78-.78 2.05 0 2.83L4 21.41c.39.39.9.59 1.41.59.51 0 1.02-.2 1.41-.59l7.78-7.78 2.81-2.81c.8-.78.8-2.07 0-2.86zM5.41 20L4 18.59l7.72-7.72 1.47 1.35L5.41 20z\"/>\n",
              "  </svg>\n",
              "      </button>\n",
              "      \n",
              "  <style>\n",
              "    .colab-df-container {\n",
              "      display:flex;\n",
              "      flex-wrap:wrap;\n",
              "      gap: 12px;\n",
              "    }\n",
              "\n",
              "    .colab-df-convert {\n",
              "      background-color: #E8F0FE;\n",
              "      border: none;\n",
              "      border-radius: 50%;\n",
              "      cursor: pointer;\n",
              "      display: none;\n",
              "      fill: #1967D2;\n",
              "      height: 32px;\n",
              "      padding: 0 0 0 0;\n",
              "      width: 32px;\n",
              "    }\n",
              "\n",
              "    .colab-df-convert:hover {\n",
              "      background-color: #E2EBFA;\n",
              "      box-shadow: 0px 1px 2px rgba(60, 64, 67, 0.3), 0px 1px 3px 1px rgba(60, 64, 67, 0.15);\n",
              "      fill: #174EA6;\n",
              "    }\n",
              "\n",
              "    [theme=dark] .colab-df-convert {\n",
              "      background-color: #3B4455;\n",
              "      fill: #D2E3FC;\n",
              "    }\n",
              "\n",
              "    [theme=dark] .colab-df-convert:hover {\n",
              "      background-color: #434B5C;\n",
              "      box-shadow: 0px 1px 3px 1px rgba(0, 0, 0, 0.15);\n",
              "      filter: drop-shadow(0px 1px 2px rgba(0, 0, 0, 0.3));\n",
              "      fill: #FFFFFF;\n",
              "    }\n",
              "  </style>\n",
              "\n",
              "      <script>\n",
              "        const buttonEl =\n",
              "          document.querySelector('#df-097ebf4b-23ac-47fc-b043-9394c8d073a2 button.colab-df-convert');\n",
              "        buttonEl.style.display =\n",
              "          google.colab.kernel.accessAllowed ? 'block' : 'none';\n",
              "\n",
              "        async function convertToInteractive(key) {\n",
              "          const element = document.querySelector('#df-097ebf4b-23ac-47fc-b043-9394c8d073a2');\n",
              "          const dataTable =\n",
              "            await google.colab.kernel.invokeFunction('convertToInteractive',\n",
              "                                                     [key], {});\n",
              "          if (!dataTable) return;\n",
              "\n",
              "          const docLinkHtml = 'Like what you see? Visit the ' +\n",
              "            '<a target=\"_blank\" href=https://colab.research.google.com/notebooks/data_table.ipynb>data table notebook</a>'\n",
              "            + ' to learn more about interactive tables.';\n",
              "          element.innerHTML = '';\n",
              "          dataTable['output_type'] = 'display_data';\n",
              "          await google.colab.output.renderOutput(dataTable, element);\n",
              "          const docLink = document.createElement('div');\n",
              "          docLink.innerHTML = docLinkHtml;\n",
              "          element.appendChild(docLink);\n",
              "        }\n",
              "      </script>\n",
              "    </div>\n",
              "  </div>\n",
              "  "
            ]
          },
          "metadata": {},
          "execution_count": 9
        }
      ]
    },
    {
      "cell_type": "code",
      "metadata": {
        "colab": {
          "base_uri": "https://localhost:8080/",
          "height": 423
        },
        "id": "5g2H0H9YZCQg",
        "outputId": "5d8da9b6-ecaa-417b-9fa9-f6f30da9e1d0"
      },
      "source": [
        "## VALIDATION DATA\n",
        "df_val"
      ],
      "id": "5g2H0H9YZCQg",
      "execution_count": null,
      "outputs": [
        {
          "output_type": "execute_result",
          "data": {
            "text/plain": [
              "                                                enc_input  \\\n",
              "222675  however i felt there was something wrong with ...   \n",
              "64343                                     mu future plan    \n",
              "82998               i was so thanksfull to him every time   \n",
              "301188                        oh i have to study japanese   \n",
              "379628        i taked him our life and girlfreind and job   \n",
              "...                                                   ...   \n",
              "310171  i think hammerfest in the north norway and sai...   \n",
              "388587             can we find the true love in china now   \n",
              "331113                 and their stomach seem very softly   \n",
              "141340                                   it is fine today   \n",
              "181333                                       neurosurgeon   \n",
              "\n",
              "                                                dec_input  \\\n",
              "222675  <start> however i felt there was something wro...   \n",
              "64343                           <start>  my future plans    \n",
              "82998          <start> i am so thankful to him every time   \n",
              "301188                <start> oh i have to study japanese   \n",
              "379628  <start> i talked him our lives and girlfreinds...   \n",
              "...                                                   ...   \n",
              "310171  <start> i think hammerfest in the north of nor...   \n",
              "388587         <start> can we find true love in china now   \n",
              "331113            <start> and its stomach seems very soft   \n",
              "141340                           <start> it is fine today   \n",
              "181333                          <start> or a neurosurgeon   \n",
              "\n",
              "                                               dec_output  \n",
              "222675  however i felt there was something wrong with ...  \n",
              "64343                              my future plans  <end>  \n",
              "82998            i am so thankful to him every time <end>  \n",
              "301188                  oh i have to study japanese <end>  \n",
              "379628  i talked him our lives and girlfreinds and job...  \n",
              "...                                                   ...  \n",
              "310171  i think hammerfest in the north of norway and ...  \n",
              "388587           can we find true love in china now <end>  \n",
              "331113              and its stomach seems very soft <end>  \n",
              "141340                             it is fine today <end>  \n",
              "181333                            or a neurosurgeon <end>  \n",
              "\n",
              "[20156 rows x 3 columns]"
            ],
            "text/html": [
              "\n",
              "  <div id=\"df-1475f664-bbab-44db-bd86-787bea3449e1\">\n",
              "    <div class=\"colab-df-container\">\n",
              "      <div>\n",
              "<style scoped>\n",
              "    .dataframe tbody tr th:only-of-type {\n",
              "        vertical-align: middle;\n",
              "    }\n",
              "\n",
              "    .dataframe tbody tr th {\n",
              "        vertical-align: top;\n",
              "    }\n",
              "\n",
              "    .dataframe thead th {\n",
              "        text-align: right;\n",
              "    }\n",
              "</style>\n",
              "<table border=\"1\" class=\"dataframe\">\n",
              "  <thead>\n",
              "    <tr style=\"text-align: right;\">\n",
              "      <th></th>\n",
              "      <th>enc_input</th>\n",
              "      <th>dec_input</th>\n",
              "      <th>dec_output</th>\n",
              "    </tr>\n",
              "  </thead>\n",
              "  <tbody>\n",
              "    <tr>\n",
              "      <th>222675</th>\n",
              "      <td>however i felt there was something wrong with ...</td>\n",
              "      <td>&lt;start&gt; however i felt there was something wro...</td>\n",
              "      <td>however i felt there was something wrong with ...</td>\n",
              "    </tr>\n",
              "    <tr>\n",
              "      <th>64343</th>\n",
              "      <td>mu future plan</td>\n",
              "      <td>&lt;start&gt;  my future plans</td>\n",
              "      <td>my future plans  &lt;end&gt;</td>\n",
              "    </tr>\n",
              "    <tr>\n",
              "      <th>82998</th>\n",
              "      <td>i was so thanksfull to him every time</td>\n",
              "      <td>&lt;start&gt; i am so thankful to him every time</td>\n",
              "      <td>i am so thankful to him every time &lt;end&gt;</td>\n",
              "    </tr>\n",
              "    <tr>\n",
              "      <th>301188</th>\n",
              "      <td>oh i have to study japanese</td>\n",
              "      <td>&lt;start&gt; oh i have to study japanese</td>\n",
              "      <td>oh i have to study japanese &lt;end&gt;</td>\n",
              "    </tr>\n",
              "    <tr>\n",
              "      <th>379628</th>\n",
              "      <td>i taked him our life and girlfreind and job</td>\n",
              "      <td>&lt;start&gt; i talked him our lives and girlfreinds...</td>\n",
              "      <td>i talked him our lives and girlfreinds and job...</td>\n",
              "    </tr>\n",
              "    <tr>\n",
              "      <th>...</th>\n",
              "      <td>...</td>\n",
              "      <td>...</td>\n",
              "      <td>...</td>\n",
              "    </tr>\n",
              "    <tr>\n",
              "      <th>310171</th>\n",
              "      <td>i think hammerfest in the north norway and sai...</td>\n",
              "      <td>&lt;start&gt; i think hammerfest in the north of nor...</td>\n",
              "      <td>i think hammerfest in the north of norway and ...</td>\n",
              "    </tr>\n",
              "    <tr>\n",
              "      <th>388587</th>\n",
              "      <td>can we find the true love in china now</td>\n",
              "      <td>&lt;start&gt; can we find true love in china now</td>\n",
              "      <td>can we find true love in china now &lt;end&gt;</td>\n",
              "    </tr>\n",
              "    <tr>\n",
              "      <th>331113</th>\n",
              "      <td>and their stomach seem very softly</td>\n",
              "      <td>&lt;start&gt; and its stomach seems very soft</td>\n",
              "      <td>and its stomach seems very soft &lt;end&gt;</td>\n",
              "    </tr>\n",
              "    <tr>\n",
              "      <th>141340</th>\n",
              "      <td>it is fine today</td>\n",
              "      <td>&lt;start&gt; it is fine today</td>\n",
              "      <td>it is fine today &lt;end&gt;</td>\n",
              "    </tr>\n",
              "    <tr>\n",
              "      <th>181333</th>\n",
              "      <td>neurosurgeon</td>\n",
              "      <td>&lt;start&gt; or a neurosurgeon</td>\n",
              "      <td>or a neurosurgeon &lt;end&gt;</td>\n",
              "    </tr>\n",
              "  </tbody>\n",
              "</table>\n",
              "<p>20156 rows × 3 columns</p>\n",
              "</div>\n",
              "      <button class=\"colab-df-convert\" onclick=\"convertToInteractive('df-1475f664-bbab-44db-bd86-787bea3449e1')\"\n",
              "              title=\"Convert this dataframe to an interactive table.\"\n",
              "              style=\"display:none;\">\n",
              "        \n",
              "  <svg xmlns=\"http://www.w3.org/2000/svg\" height=\"24px\"viewBox=\"0 0 24 24\"\n",
              "       width=\"24px\">\n",
              "    <path d=\"M0 0h24v24H0V0z\" fill=\"none\"/>\n",
              "    <path d=\"M18.56 5.44l.94 2.06.94-2.06 2.06-.94-2.06-.94-.94-2.06-.94 2.06-2.06.94zm-11 1L8.5 8.5l.94-2.06 2.06-.94-2.06-.94L8.5 2.5l-.94 2.06-2.06.94zm10 10l.94 2.06.94-2.06 2.06-.94-2.06-.94-.94-2.06-.94 2.06-2.06.94z\"/><path d=\"M17.41 7.96l-1.37-1.37c-.4-.4-.92-.59-1.43-.59-.52 0-1.04.2-1.43.59L10.3 9.45l-7.72 7.72c-.78.78-.78 2.05 0 2.83L4 21.41c.39.39.9.59 1.41.59.51 0 1.02-.2 1.41-.59l7.78-7.78 2.81-2.81c.8-.78.8-2.07 0-2.86zM5.41 20L4 18.59l7.72-7.72 1.47 1.35L5.41 20z\"/>\n",
              "  </svg>\n",
              "      </button>\n",
              "      \n",
              "  <style>\n",
              "    .colab-df-container {\n",
              "      display:flex;\n",
              "      flex-wrap:wrap;\n",
              "      gap: 12px;\n",
              "    }\n",
              "\n",
              "    .colab-df-convert {\n",
              "      background-color: #E8F0FE;\n",
              "      border: none;\n",
              "      border-radius: 50%;\n",
              "      cursor: pointer;\n",
              "      display: none;\n",
              "      fill: #1967D2;\n",
              "      height: 32px;\n",
              "      padding: 0 0 0 0;\n",
              "      width: 32px;\n",
              "    }\n",
              "\n",
              "    .colab-df-convert:hover {\n",
              "      background-color: #E2EBFA;\n",
              "      box-shadow: 0px 1px 2px rgba(60, 64, 67, 0.3), 0px 1px 3px 1px rgba(60, 64, 67, 0.15);\n",
              "      fill: #174EA6;\n",
              "    }\n",
              "\n",
              "    [theme=dark] .colab-df-convert {\n",
              "      background-color: #3B4455;\n",
              "      fill: #D2E3FC;\n",
              "    }\n",
              "\n",
              "    [theme=dark] .colab-df-convert:hover {\n",
              "      background-color: #434B5C;\n",
              "      box-shadow: 0px 1px 3px 1px rgba(0, 0, 0, 0.15);\n",
              "      filter: drop-shadow(0px 1px 2px rgba(0, 0, 0, 0.3));\n",
              "      fill: #FFFFFF;\n",
              "    }\n",
              "  </style>\n",
              "\n",
              "      <script>\n",
              "        const buttonEl =\n",
              "          document.querySelector('#df-1475f664-bbab-44db-bd86-787bea3449e1 button.colab-df-convert');\n",
              "        buttonEl.style.display =\n",
              "          google.colab.kernel.accessAllowed ? 'block' : 'none';\n",
              "\n",
              "        async function convertToInteractive(key) {\n",
              "          const element = document.querySelector('#df-1475f664-bbab-44db-bd86-787bea3449e1');\n",
              "          const dataTable =\n",
              "            await google.colab.kernel.invokeFunction('convertToInteractive',\n",
              "                                                     [key], {});\n",
              "          if (!dataTable) return;\n",
              "\n",
              "          const docLinkHtml = 'Like what you see? Visit the ' +\n",
              "            '<a target=\"_blank\" href=https://colab.research.google.com/notebooks/data_table.ipynb>data table notebook</a>'\n",
              "            + ' to learn more about interactive tables.';\n",
              "          element.innerHTML = '';\n",
              "          dataTable['output_type'] = 'display_data';\n",
              "          await google.colab.output.renderOutput(dataTable, element);\n",
              "          const docLink = document.createElement('div');\n",
              "          docLink.innerHTML = docLinkHtml;\n",
              "          element.appendChild(docLink);\n",
              "        }\n",
              "      </script>\n",
              "    </div>\n",
              "  </div>\n",
              "  "
            ]
          },
          "metadata": {},
          "execution_count": 10
        }
      ]
    },
    {
      "cell_type": "code",
      "metadata": {
        "colab": {
          "base_uri": "https://localhost:8080/",
          "height": 423
        },
        "id": "O3dYYO32O9uf",
        "outputId": "6bd851c5-5792-475c-9044-47d519467b1e"
      },
      "source": [
        "## HERE WE Are SAMPLING 1000 POINTS FROM THE DATAFRAME AS TEST DATA WHICH ARE NOT PRESEENT IN THE TRAIN AND VALIDAION DATA\n",
        "np.random.seed(5) \n",
        "df_test = df.loc[np.random.choice(np.array([x for x in df.index.values if x not in df_sampled.index.values]),1000,replace= False,)]\n",
        "df_test"
      ],
      "id": "O3dYYO32O9uf",
      "execution_count": null,
      "outputs": [
        {
          "output_type": "execute_result",
          "data": {
            "text/plain": [
              "                                                enc_input  \\\n",
              "144583  you are meeting your friends and going to a ba...   \n",
              "455599      but since i got here i have not studied a lot   \n",
              "13922   we had lunch with them in a house flooded by t...   \n",
              "128968                  an professor introduced me to her   \n",
              "402800  his companions were having drinks in front of ...   \n",
              "...                                                   ...   \n",
              "352632  so many people is suffuring from hunger povert...   \n",
              "191449  i wish i could be of some help during this big...   \n",
              "179722  anyway what i hope is he will come to shanghai...   \n",
              "38604                i just saw something on the facebook   \n",
              "388473  and then i started to make my stole with white...   \n",
              "\n",
              "                                                dec_input  \\\n",
              "144583  <start> you are meeting your friends and going...   \n",
              "455599  <start> but since i got here i have not studie...   \n",
              "13922   <start> we had lunch with those whose house ha...   \n",
              "128968           <start> a professor introduced me to her   \n",
              "402800  <start> his companions were having drinks in f...   \n",
              "...                                                   ...   \n",
              "352632  <start> so many people are suffering from hung...   \n",
              "191449  <start> i hope to offer some help in this big ...   \n",
              "179722  <start> anyway what i hope is that he will com...   \n",
              "38604            <start> i just saw something on facebook   \n",
              "388473  <start> and then i started to knitmyself a sto...   \n",
              "\n",
              "                                               dec_output  \n",
              "144583  you are meeting your friends and going to a ba...  \n",
              "455599  but since i got here i have not studied  very ...  \n",
              "13922   we had lunch with those whose house had been f...  \n",
              "128968             a professor introduced me to her <end>  \n",
              "402800  his companions were having drinks in front of ...  \n",
              "...                                                   ...  \n",
              "352632  so many people are suffering from hunger and p...  \n",
              "191449  i hope to offer some help in this big change b...  \n",
              "179722  anyway what i hope is that he will come to sha...  \n",
              "38604              i just saw something on facebook <end>  \n",
              "388473  and then i started to knitmyself a stole using...  \n",
              "\n",
              "[1000 rows x 3 columns]"
            ],
            "text/html": [
              "\n",
              "  <div id=\"df-f7a7bd87-20e2-4e20-b3b0-df3bfb9f6f21\">\n",
              "    <div class=\"colab-df-container\">\n",
              "      <div>\n",
              "<style scoped>\n",
              "    .dataframe tbody tr th:only-of-type {\n",
              "        vertical-align: middle;\n",
              "    }\n",
              "\n",
              "    .dataframe tbody tr th {\n",
              "        vertical-align: top;\n",
              "    }\n",
              "\n",
              "    .dataframe thead th {\n",
              "        text-align: right;\n",
              "    }\n",
              "</style>\n",
              "<table border=\"1\" class=\"dataframe\">\n",
              "  <thead>\n",
              "    <tr style=\"text-align: right;\">\n",
              "      <th></th>\n",
              "      <th>enc_input</th>\n",
              "      <th>dec_input</th>\n",
              "      <th>dec_output</th>\n",
              "    </tr>\n",
              "  </thead>\n",
              "  <tbody>\n",
              "    <tr>\n",
              "      <th>144583</th>\n",
              "      <td>you are meeting your friends and going to a ba...</td>\n",
              "      <td>&lt;start&gt; you are meeting your friends and going...</td>\n",
              "      <td>you are meeting your friends and going to a ba...</td>\n",
              "    </tr>\n",
              "    <tr>\n",
              "      <th>455599</th>\n",
              "      <td>but since i got here i have not studied a lot</td>\n",
              "      <td>&lt;start&gt; but since i got here i have not studie...</td>\n",
              "      <td>but since i got here i have not studied  very ...</td>\n",
              "    </tr>\n",
              "    <tr>\n",
              "      <th>13922</th>\n",
              "      <td>we had lunch with them in a house flooded by t...</td>\n",
              "      <td>&lt;start&gt; we had lunch with those whose house ha...</td>\n",
              "      <td>we had lunch with those whose house had been f...</td>\n",
              "    </tr>\n",
              "    <tr>\n",
              "      <th>128968</th>\n",
              "      <td>an professor introduced me to her</td>\n",
              "      <td>&lt;start&gt; a professor introduced me to her</td>\n",
              "      <td>a professor introduced me to her &lt;end&gt;</td>\n",
              "    </tr>\n",
              "    <tr>\n",
              "      <th>402800</th>\n",
              "      <td>his companions were having drinks in front of ...</td>\n",
              "      <td>&lt;start&gt; his companions were having drinks in f...</td>\n",
              "      <td>his companions were having drinks in front of ...</td>\n",
              "    </tr>\n",
              "    <tr>\n",
              "      <th>...</th>\n",
              "      <td>...</td>\n",
              "      <td>...</td>\n",
              "      <td>...</td>\n",
              "    </tr>\n",
              "    <tr>\n",
              "      <th>352632</th>\n",
              "      <td>so many people is suffuring from hunger povert...</td>\n",
              "      <td>&lt;start&gt; so many people are suffering from hung...</td>\n",
              "      <td>so many people are suffering from hunger and p...</td>\n",
              "    </tr>\n",
              "    <tr>\n",
              "      <th>191449</th>\n",
              "      <td>i wish i could be of some help during this big...</td>\n",
              "      <td>&lt;start&gt; i hope to offer some help in this big ...</td>\n",
              "      <td>i hope to offer some help in this big change b...</td>\n",
              "    </tr>\n",
              "    <tr>\n",
              "      <th>179722</th>\n",
              "      <td>anyway what i hope is he will come to shanghai...</td>\n",
              "      <td>&lt;start&gt; anyway what i hope is that he will com...</td>\n",
              "      <td>anyway what i hope is that he will come to sha...</td>\n",
              "    </tr>\n",
              "    <tr>\n",
              "      <th>38604</th>\n",
              "      <td>i just saw something on the facebook</td>\n",
              "      <td>&lt;start&gt; i just saw something on facebook</td>\n",
              "      <td>i just saw something on facebook &lt;end&gt;</td>\n",
              "    </tr>\n",
              "    <tr>\n",
              "      <th>388473</th>\n",
              "      <td>and then i started to make my stole with white...</td>\n",
              "      <td>&lt;start&gt; and then i started to knitmyself a sto...</td>\n",
              "      <td>and then i started to knitmyself a stole using...</td>\n",
              "    </tr>\n",
              "  </tbody>\n",
              "</table>\n",
              "<p>1000 rows × 3 columns</p>\n",
              "</div>\n",
              "      <button class=\"colab-df-convert\" onclick=\"convertToInteractive('df-f7a7bd87-20e2-4e20-b3b0-df3bfb9f6f21')\"\n",
              "              title=\"Convert this dataframe to an interactive table.\"\n",
              "              style=\"display:none;\">\n",
              "        \n",
              "  <svg xmlns=\"http://www.w3.org/2000/svg\" height=\"24px\"viewBox=\"0 0 24 24\"\n",
              "       width=\"24px\">\n",
              "    <path d=\"M0 0h24v24H0V0z\" fill=\"none\"/>\n",
              "    <path d=\"M18.56 5.44l.94 2.06.94-2.06 2.06-.94-2.06-.94-.94-2.06-.94 2.06-2.06.94zm-11 1L8.5 8.5l.94-2.06 2.06-.94-2.06-.94L8.5 2.5l-.94 2.06-2.06.94zm10 10l.94 2.06.94-2.06 2.06-.94-2.06-.94-.94-2.06-.94 2.06-2.06.94z\"/><path d=\"M17.41 7.96l-1.37-1.37c-.4-.4-.92-.59-1.43-.59-.52 0-1.04.2-1.43.59L10.3 9.45l-7.72 7.72c-.78.78-.78 2.05 0 2.83L4 21.41c.39.39.9.59 1.41.59.51 0 1.02-.2 1.41-.59l7.78-7.78 2.81-2.81c.8-.78.8-2.07 0-2.86zM5.41 20L4 18.59l7.72-7.72 1.47 1.35L5.41 20z\"/>\n",
              "  </svg>\n",
              "      </button>\n",
              "      \n",
              "  <style>\n",
              "    .colab-df-container {\n",
              "      display:flex;\n",
              "      flex-wrap:wrap;\n",
              "      gap: 12px;\n",
              "    }\n",
              "\n",
              "    .colab-df-convert {\n",
              "      background-color: #E8F0FE;\n",
              "      border: none;\n",
              "      border-radius: 50%;\n",
              "      cursor: pointer;\n",
              "      display: none;\n",
              "      fill: #1967D2;\n",
              "      height: 32px;\n",
              "      padding: 0 0 0 0;\n",
              "      width: 32px;\n",
              "    }\n",
              "\n",
              "    .colab-df-convert:hover {\n",
              "      background-color: #E2EBFA;\n",
              "      box-shadow: 0px 1px 2px rgba(60, 64, 67, 0.3), 0px 1px 3px 1px rgba(60, 64, 67, 0.15);\n",
              "      fill: #174EA6;\n",
              "    }\n",
              "\n",
              "    [theme=dark] .colab-df-convert {\n",
              "      background-color: #3B4455;\n",
              "      fill: #D2E3FC;\n",
              "    }\n",
              "\n",
              "    [theme=dark] .colab-df-convert:hover {\n",
              "      background-color: #434B5C;\n",
              "      box-shadow: 0px 1px 3px 1px rgba(0, 0, 0, 0.15);\n",
              "      filter: drop-shadow(0px 1px 2px rgba(0, 0, 0, 0.3));\n",
              "      fill: #FFFFFF;\n",
              "    }\n",
              "  </style>\n",
              "\n",
              "      <script>\n",
              "        const buttonEl =\n",
              "          document.querySelector('#df-f7a7bd87-20e2-4e20-b3b0-df3bfb9f6f21 button.colab-df-convert');\n",
              "        buttonEl.style.display =\n",
              "          google.colab.kernel.accessAllowed ? 'block' : 'none';\n",
              "\n",
              "        async function convertToInteractive(key) {\n",
              "          const element = document.querySelector('#df-f7a7bd87-20e2-4e20-b3b0-df3bfb9f6f21');\n",
              "          const dataTable =\n",
              "            await google.colab.kernel.invokeFunction('convertToInteractive',\n",
              "                                                     [key], {});\n",
              "          if (!dataTable) return;\n",
              "\n",
              "          const docLinkHtml = 'Like what you see? Visit the ' +\n",
              "            '<a target=\"_blank\" href=https://colab.research.google.com/notebooks/data_table.ipynb>data table notebook</a>'\n",
              "            + ' to learn more about interactive tables.';\n",
              "          element.innerHTML = '';\n",
              "          dataTable['output_type'] = 'display_data';\n",
              "          await google.colab.output.renderOutput(dataTable, element);\n",
              "          const docLink = document.createElement('div');\n",
              "          docLink.innerHTML = docLinkHtml;\n",
              "          element.appendChild(docLink);\n",
              "        }\n",
              "      </script>\n",
              "    </div>\n",
              "  </div>\n",
              "  "
            ]
          },
          "metadata": {},
          "execution_count": 11
        }
      ]
    },
    {
      "cell_type": "markdown",
      "metadata": {
        "id": "4b4ffe0f"
      },
      "source": [
        "## Tokenization"
      ],
      "id": "4b4ffe0f"
    },
    {
      "cell_type": "code",
      "metadata": {
        "id": "6a248032"
      },
      "source": [
        "from tensorflow.keras.preprocessing.text import Tokenizer"
      ],
      "id": "6a248032",
      "execution_count": null,
      "outputs": []
    },
    {
      "cell_type": "code",
      "metadata": {
        "id": "a6f538d5",
        "colab": {
          "base_uri": "https://localhost:8080/",
          "height": 200
        },
        "outputId": "52a7db85-20cc-42ff-c2ac-d9233119f5e8"
      },
      "source": [
        "## TOKENIZER FOR ENCODER INPUT\n",
        "tk_inp = Tokenizer()\n",
        "tk_inp.fit_on_texts(df_train.enc_input.apply(str))"
      ],
      "id": "a6f538d5",
      "execution_count": null,
      "outputs": [
        {
          "output_type": "error",
          "ename": "NameError",
          "evalue": "ignored",
          "traceback": [
            "\u001b[0;31m---------------------------------------------------------------------------\u001b[0m",
            "\u001b[0;31mNameError\u001b[0m                                 Traceback (most recent call last)",
            "\u001b[0;32m<ipython-input-2-615230c01aee>\u001b[0m in \u001b[0;36m<module>\u001b[0;34m()\u001b[0m\n\u001b[1;32m      1\u001b[0m \u001b[0;31m## TOKENIZER FOR ENCODER INPUT\u001b[0m\u001b[0;34m\u001b[0m\u001b[0;34m\u001b[0m\u001b[0;34m\u001b[0m\u001b[0m\n\u001b[1;32m      2\u001b[0m \u001b[0mtk_inp\u001b[0m \u001b[0;34m=\u001b[0m \u001b[0mTokenizer\u001b[0m\u001b[0;34m(\u001b[0m\u001b[0;34m)\u001b[0m\u001b[0;34m\u001b[0m\u001b[0;34m\u001b[0m\u001b[0m\n\u001b[0;32m----> 3\u001b[0;31m \u001b[0mtk_inp\u001b[0m\u001b[0;34m.\u001b[0m\u001b[0mfit_on_texts\u001b[0m\u001b[0;34m(\u001b[0m\u001b[0mdf_train\u001b[0m\u001b[0;34m.\u001b[0m\u001b[0menc_input\u001b[0m\u001b[0;34m.\u001b[0m\u001b[0mapply\u001b[0m\u001b[0;34m(\u001b[0m\u001b[0mstr\u001b[0m\u001b[0;34m)\u001b[0m\u001b[0;34m)\u001b[0m\u001b[0;34m\u001b[0m\u001b[0;34m\u001b[0m\u001b[0m\n\u001b[0m",
            "\u001b[0;31mNameError\u001b[0m: name 'df_train' is not defined"
          ]
        }
      ]
    },
    {
      "cell_type": "code",
      "metadata": {
        "id": "3e953882",
        "colab": {
          "base_uri": "https://localhost:8080/",
          "height": 200
        },
        "outputId": "df8d6c28-ae74-46be-9413-fa603af7de3e"
      },
      "source": [
        "# TOKENIZER FOR DECODER INPUT\n",
        "tk_out = Tokenizer(filters='!\"#$%&()*+,-./:;=?@[\\\\]^_`{|}~\\t\\n' )\n",
        "tk_out.fit_on_texts(df_train.dec_input.apply(str))"
      ],
      "id": "3e953882",
      "execution_count": null,
      "outputs": [
        {
          "output_type": "error",
          "ename": "NameError",
          "evalue": "ignored",
          "traceback": [
            "\u001b[0;31m---------------------------------------------------------------------------\u001b[0m",
            "\u001b[0;31mNameError\u001b[0m                                 Traceback (most recent call last)",
            "\u001b[0;32m<ipython-input-3-f62d1ab18c89>\u001b[0m in \u001b[0;36m<module>\u001b[0;34m()\u001b[0m\n\u001b[1;32m      1\u001b[0m \u001b[0;31m# TOKENIZER FOR DECODER INPUT\u001b[0m\u001b[0;34m\u001b[0m\u001b[0;34m\u001b[0m\u001b[0;34m\u001b[0m\u001b[0m\n\u001b[1;32m      2\u001b[0m \u001b[0mtk_out\u001b[0m \u001b[0;34m=\u001b[0m \u001b[0mTokenizer\u001b[0m\u001b[0;34m(\u001b[0m\u001b[0mfilters\u001b[0m\u001b[0;34m=\u001b[0m\u001b[0;34m'!\"#$%&()*+,-./:;=?@[\\\\]^_`{|}~\\t\\n'\u001b[0m \u001b[0;34m)\u001b[0m\u001b[0;34m\u001b[0m\u001b[0;34m\u001b[0m\u001b[0m\n\u001b[0;32m----> 3\u001b[0;31m \u001b[0mtk_out\u001b[0m\u001b[0;34m.\u001b[0m\u001b[0mfit_on_texts\u001b[0m\u001b[0;34m(\u001b[0m\u001b[0mdf_train\u001b[0m\u001b[0;34m.\u001b[0m\u001b[0mdec_input\u001b[0m\u001b[0;34m.\u001b[0m\u001b[0mapply\u001b[0m\u001b[0;34m(\u001b[0m\u001b[0mstr\u001b[0m\u001b[0;34m)\u001b[0m\u001b[0;34m)\u001b[0m\u001b[0;34m\u001b[0m\u001b[0;34m\u001b[0m\u001b[0m\n\u001b[0m",
            "\u001b[0;31mNameError\u001b[0m: name 'df_train' is not defined"
          ]
        }
      ]
    },
    {
      "cell_type": "markdown",
      "metadata": {
        "id": "45d861da"
      },
      "source": [
        "## DATA PIPELINE"
      ],
      "id": "45d861da"
    },
    {
      "cell_type": "code",
      "metadata": {
        "id": "0a905874"
      },
      "source": [
        "## THIS CLASS CONVERTS TEXT DATA TO INTEGER SEQUENCES AND RETURNS THE PADDED SEQUENCES\n",
        "\n",
        "class Dataset :\n",
        "    def __init__(self, data , tk_inp ,tk_out, max_len):\n",
        "        ## SETTING THE REQUIRED ATTRIBUTES\n",
        "        self.encoder_inp = data[\"enc_input\"].apply(str).values\n",
        "        self.decoder_inp = data[\"dec_input\"].apply(str).values\n",
        "        self.decoder_out = data[\"dec_output\"].apply(str).values\n",
        "        self.tk_inp = tk_inp\n",
        "        self.tk_out = tk_out\n",
        "        self.max_len = max_len\n",
        "        \n",
        "    def __getitem__(self,i):\n",
        "        # INPUT SEQUENCES\n",
        "        self.encoder_seq = self.tk_inp.texts_to_sequences([self.encoder_inp[i]])\n",
        "        # DECODER INPUT SEQUENCES \n",
        "        self.decoder_inp_seq = self.tk_out.texts_to_sequences([self.decoder_inp[i]])\n",
        "        # DECODER INPUT SEQUENCES\n",
        "        self.decoder_out_seq = self.tk_out.texts_to_sequences([self.decoder_out[i]])\n",
        "        \n",
        "        # PADDING THE ENCODER INPUT SEQUENCES\n",
        "        self.encoder_seq = pad_sequences(self.encoder_seq, padding=\"post\",maxlen = self.max_len)\n",
        "        # PADDING THE DECODER INPUT SEQUENCES\n",
        "        self.decoder_inp_seq = pad_sequences(self.decoder_inp_seq, padding=\"post\",maxlen = self.max_len)\n",
        "        # PADDING DECODER OUTPUT SEQUENCES\n",
        "        self.decoder_out_seq = pad_sequences(self.decoder_out_seq ,padding=\"post\", maxlen = self.max_len)\n",
        "\n",
        "        ##  RETURNING THE ENCODER INPUT , DECODER INPUT , AND DECODER OUTPUT\n",
        "        return self.encoder_seq ,  self.decoder_inp_seq,  self.decoder_out_seq\n",
        "    \n",
        "    def __len__(self):\n",
        "        # RETURN THE LEN OF INPUT ENDODER\n",
        "        return len(self.encoder_inp)"
      ],
      "id": "0a905874",
      "execution_count": null,
      "outputs": []
    },
    {
      "cell_type": "code",
      "metadata": {
        "id": "2c9a336e"
      },
      "source": [
        "## THIS CLASS CONVERTES THE DATASET INTO THE REQUIRED BATCH SIZE\n",
        "\n",
        "class Dataloader(tf.keras.utils.Sequence):\n",
        "    def __init__(self,batch_size,dataset):\n",
        "        # INTIALIZING THE REQUIRED VARIABLES \n",
        "        self.dataset = dataset\n",
        "        self.batch_size = batch_size\n",
        "        self.totl_points = self.dataset.encoder_inp.shape[0]\n",
        "        \n",
        "    def __getitem__(self,i):\n",
        "        # STATING THE START AND STOP VATIABLE CONTAINGING INDEX VALUES FOR EACH BATCH\n",
        "        start = i * self.batch_size\n",
        "        stop = (i+1)*self.batch_size\n",
        "        \n",
        "        # PLACEHOLDERS FOR BATCHED DATA\n",
        "        batch_enc =[]\n",
        "        batch_dec_input = []\n",
        "        batch_dec_out =[]\n",
        "\n",
        "        for j in range(start,stop): \n",
        "            \n",
        "            a,b,c = self.dataset[j] \n",
        "            batch_enc.append(a[0]) \n",
        "            batch_dec_input.append(b[0])\n",
        "            batch_dec_out.append(c[0]) \n",
        "        \n",
        "        # Conveting list to array   \n",
        "        batch_enc = (np.array(batch_enc)) \n",
        "        batch_dec_input = np.array(batch_dec_input)\n",
        "        batch_dec_out = np.array(batch_dec_out)\n",
        "        \n",
        "        ## RETURNING BATCHED DATA IN REQUIRED FORM\n",
        "        return [batch_enc , batch_dec_input],batch_dec_out\n",
        "    \n",
        "    def __len__(self):\n",
        "        # Returning the number of batches\n",
        "        return int(self.totl_points/self.batch_size)"
      ],
      "id": "2c9a336e",
      "execution_count": null,
      "outputs": []
    },
    {
      "cell_type": "markdown",
      "metadata": {
        "id": "QfEi9fzDR3FD"
      },
      "source": [
        "###### NOTE: WE ARE TAKING THE MAXIMUM LENGHT EQUAL TO 35 WHICH IS 99 PERCENTILE OF THE WORD LENGTH DISTRUBUTION"
      ],
      "id": "QfEi9fzDR3FD"
    },
    {
      "cell_type": "code",
      "metadata": {
        "id": "86d7d05b"
      },
      "source": [
        "# FORMING OBJECTS OF DATASET AND DATALOADER FOR TRAIN DATASET\n",
        "train_dataset = Dataset(df_train,tk_inp,tk_out,35)\n",
        "train_dataloader = Dataloader( batch_size = 512, dataset=train_dataset)\n",
        "\n",
        "# FORMING OBJECTS OF DATASET AND DATALOADER FOR VALIDATION DATASET\n",
        "val_dataset = Dataset(df_val , tk_inp,tk_out,35)\n",
        "val_dataloader = Dataloader(batch_size=512 , dataset=val_dataset)"
      ],
      "id": "86d7d05b",
      "execution_count": null,
      "outputs": []
    },
    {
      "cell_type": "markdown",
      "metadata": {
        "id": "e0abfa68"
      },
      "source": [
        "## Encoder Decoder Model"
      ],
      "id": "e0abfa68"
    },
    {
      "cell_type": "code",
      "metadata": {
        "id": "d06e5d1f"
      },
      "source": [
        "## LOADING THE TENSORFLOW LIBRARIES\n",
        "\n",
        "from tensorflow.keras import layers\n",
        "from tensorflow.keras import Model"
      ],
      "id": "d06e5d1f",
      "execution_count": null,
      "outputs": []
    },
    {
      "cell_type": "code",
      "metadata": {
        "id": "zXRxqbRYSEv2"
      },
      "source": [
        "## DEFINING THE ENCODER LAYER AS A FUNCTION\n",
        "\n",
        "def encoder(input_shape,vocab, emb_output, lstm_units, enc_input):\n",
        "    '''THIS FUNCTION TAKES IN THE SEQUENCES AND RETURNS THE ENCODER OUTPUT'''\n",
        "    ## FIRST LAYER : EMBEDDING LAYER\n",
        "    enc_emb = layers.Embedding(vocab, emb_output,mask_zero = True,input_length=input_shape)(enc_input)\n",
        "    ## SECOND LAYER : LSTM LAYER\n",
        "    enc_lstm , enc_state_h,enc_state_c = layers.LSTM(units= lstm_units,return_sequences=True,return_state=True)(enc_emb)\n",
        "    ## RETURNING THE LSTM OUTPUTS AND STATES\n",
        "    return enc_lstm , enc_state_h,enc_state_c\n",
        "\n",
        "\n",
        "## DEFINING THE DECODER LAYER AS A FUNCTION \n",
        "def decoder(input_shape,vocab, emb_output, lstm_units,enc_states, dec_input):\n",
        "  ## FIRST LAYER : EMBEDDING LAYER\n",
        "  dec_emb = layers.Embedding(vocab, emb_output , mask_zero = True,input_length=input_shape)(dec_input)\n",
        "  ## SECONG LAYER : LSTM LAYER\n",
        "  dec_lstm, dec_state_h,dec_state_c = layers.LSTM(units=lstm_units,return_sequences=True,return_state=True)(dec_emb,initial_state= enc_states)\n",
        "  ## RETURNING THE LSTM OUTPUTS AND STATES\n",
        "  return dec_lstm, dec_state_h,dec_state_c"
      ],
      "id": "zXRxqbRYSEv2",
      "execution_count": null,
      "outputs": []
    },
    {
      "cell_type": "code",
      "metadata": {
        "id": "7884d4e2"
      },
      "source": [
        "## DEFINING THE MODEL ARCHITECTURE\n",
        "\n",
        "# INPUT LAYER\n",
        "enc_input = layers.Input(shape=(35))\n",
        "# ENCODER DEFINED FORM FUNCTON ABOVE\n",
        "enc_lstm , enc_state_h,enc_state_c = encoder(35,len(tk_inp.word_index)+1 , 300 ,256, enc_input )\n",
        "\n",
        "\n",
        "# DECODER INPUT LAYER\n",
        "dec_input = layers.Input(shape = (35))\n",
        "# DECODER DEFINEA FROM ABOVE FUNCTION\n",
        "dec_lstm , dec_state_h,dec_state_c = decoder(35,len(tk_out.word_index)+1 , 300 , 256 , [enc_state_h,enc_state_c],dec_input)\n",
        "# DENCSE LAYER CONNECTOD TO DECODER OUTPUT\n",
        "dense = layers.Dense(len(tk_out.word_index)+1,activation=\"softmax\")(dec_lstm)\n",
        "\n",
        "# MODEL DEFINING\n",
        "model  = Model(inputs=[enc_input,dec_input],outputs=dense)\n"
      ],
      "id": "7884d4e2",
      "execution_count": null,
      "outputs": []
    },
    {
      "cell_type": "code",
      "metadata": {
        "id": "33ce5c9c",
        "colab": {
          "base_uri": "https://localhost:8080/"
        },
        "outputId": "ed18513f-24c5-4c28-cc16-a7a511b53b28"
      },
      "source": [
        "# MODEL SUMMARY\n",
        "model.summary()"
      ],
      "id": "33ce5c9c",
      "execution_count": null,
      "outputs": [
        {
          "output_type": "stream",
          "name": "stdout",
          "text": [
            "Model: \"model\"\n",
            "__________________________________________________________________________________________________\n",
            " Layer (type)                   Output Shape         Param #     Connected to                     \n",
            "==================================================================================================\n",
            " input_1 (InputLayer)           [(None, 35)]         0           []                               \n",
            "                                                                                                  \n",
            " input_2 (InputLayer)           [(None, 35)]         0           []                               \n",
            "                                                                                                  \n",
            " embedding (Embedding)          (None, 35, 300)      9493800     ['input_1[0][0]']                \n",
            "                                                                                                  \n",
            " embedding_1 (Embedding)        (None, 35, 300)      8053800     ['input_2[0][0]']                \n",
            "                                                                                                  \n",
            " lstm (LSTM)                    [(None, 35, 256),    570368      ['embedding[0][0]']              \n",
            "                                 (None, 256),                                                     \n",
            "                                 (None, 256)]                                                     \n",
            "                                                                                                  \n",
            " lstm_1 (LSTM)                  [(None, 35, 256),    570368      ['embedding_1[0][0]',            \n",
            "                                 (None, 256),                     'lstm[0][1]',                   \n",
            "                                 (None, 256)]                     'lstm[0][2]']                   \n",
            "                                                                                                  \n",
            " dense (Dense)                  (None, 35, 26846)    6899422     ['lstm_1[0][0]']                 \n",
            "                                                                                                  \n",
            "==================================================================================================\n",
            "Total params: 25,587,758\n",
            "Trainable params: 25,587,758\n",
            "Non-trainable params: 0\n",
            "__________________________________________________________________________________________________\n"
          ]
        }
      ]
    },
    {
      "cell_type": "code",
      "metadata": {
        "id": "jpct2PtDjuhm"
      },
      "source": [
        "## DEFINING THE CALLBACKS\n",
        "callback =[ tf.keras.callbacks.ModelCheckpoint( \"/content/drive/MyDrive/ColabNotebooks/cs2/model_save/word_trainable_embedding/besh\",save_best_only=True,mode=\"min\" ,save_weights_only=True),\n",
        "           tf.keras.callbacks.EarlyStopping(monitor='val_loss',patience=5,verbose=1,min_delta=0.0001)\n",
        "]\n",
        "\n",
        "## STORING THE NUMBER OF STEPS IN ONE EPOCH FOR TRAIN AND VALIDATION DATASET\n",
        "train_steps = train_dataloader.__len__()\n",
        "val_steps  = val_dataloader.__len__()\n",
        "\n",
        "# COMPILING THE MODEL\n",
        "model.compile(optimizer=\"adam\",loss='sparse_categorical_crossentropy')"
      ],
      "id": "jpct2PtDjuhm",
      "execution_count": null,
      "outputs": []
    },
    {
      "cell_type": "code",
      "metadata": {
        "id": "Qmpe_rIJREqf",
        "colab": {
          "base_uri": "https://localhost:8080/"
        },
        "outputId": "f5fd44d9-b1e6-4598-843f-2a91fc7a683e"
      },
      "source": [
        "## FITTING THE MODEL\n",
        "model.fit(train_dataloader,steps_per_epoch=train_steps,epochs=10,validation_data = val_dataloader,validation_steps =val_steps,callbacks=callback)"
      ],
      "id": "Qmpe_rIJREqf",
      "execution_count": null,
      "outputs": [
        {
          "output_type": "stream",
          "name": "stdout",
          "text": [
            "Epoch 1/10\n",
            "157/157 [==============================] - 182s 737ms/step - loss: 2.1785 - val_loss: 1.9830\n",
            "Epoch 2/10\n",
            "157/157 [==============================] - 112s 714ms/step - loss: 1.9279 - val_loss: 1.7771\n",
            "Epoch 3/10\n",
            "157/157 [==============================] - 112s 714ms/step - loss: 1.7499 - val_loss: 1.6485\n",
            "Epoch 4/10\n",
            "157/157 [==============================] - 113s 718ms/step - loss: 1.6206 - val_loss: 1.5479\n",
            "Epoch 5/10\n",
            "157/157 [==============================] - 112s 715ms/step - loss: 1.5091 - val_loss: 1.4659\n",
            "Epoch 6/10\n",
            "157/157 [==============================] - 113s 719ms/step - loss: 1.4119 - val_loss: 1.4007\n",
            "Epoch 7/10\n",
            "157/157 [==============================] - 112s 714ms/step - loss: 1.3250 - val_loss: 1.3451\n",
            "Epoch 8/10\n",
            "157/157 [==============================] - 112s 715ms/step - loss: 1.2473 - val_loss: 1.3005\n",
            "Epoch 9/10\n",
            "157/157 [==============================] - 112s 714ms/step - loss: 1.1773 - val_loss: 1.2647\n",
            "Epoch 10/10\n",
            "157/157 [==============================] - 112s 716ms/step - loss: 1.1140 - val_loss: 1.2369\n"
          ]
        },
        {
          "output_type": "execute_result",
          "data": {
            "text/plain": [
              "<keras.callbacks.History at 0x7f8ee6ea9dd0>"
            ]
          },
          "metadata": {},
          "execution_count": 27
        }
      ]
    },
    {
      "cell_type": "code",
      "metadata": {
        "colab": {
          "base_uri": "https://localhost:8080/",
          "height": 513
        },
        "id": "vAVbLMFrckDX",
        "outputId": "5c2888f0-f90f-4c22-886d-29055fdd0169"
      },
      "source": [
        "tf.keras.utils.plot_model(model,show_shapes=True)"
      ],
      "id": "vAVbLMFrckDX",
      "execution_count": null,
      "outputs": [
        {
          "output_type": "execute_result",
          "data": {
            "text/plain": [
              "<IPython.core.display.Image object>"
            ],
            "image/png": "[encoded data removed]"
          },
          "metadata": {},
          "execution_count": 28
        }
      ]
    },
    {
      "cell_type": "code",
      "metadata": {
        "id": "jMAQUT5_9QYg",
        "colab": {
          "base_uri": "https://localhost:8080/"
        },
        "outputId": "0d5fe3ae-13ab-40b3-a326-8ab93754570e"
      },
      "source": [
        "# LOADING THE WEIGHTS FOR BEST MODEL\n",
        "model.load_weights(\"/content/drive/MyDrive/ColabNotebooks/cs2/model_save/word_trainable_embedding/besh\")"
      ],
      "id": "jMAQUT5_9QYg",
      "execution_count": null,
      "outputs": [
        {
          "output_type": "execute_result",
          "data": {
            "text/plain": [
              "<tensorflow.python.training.tracking.util.CheckpointLoadStatus at 0x7f8ef0ef09d0>"
            ]
          },
          "metadata": {},
          "execution_count": 30
        }
      ]
    },
    {
      "cell_type": "code",
      "metadata": {
        "id": "3967f5b9"
      },
      "source": [
        "## THIS FUNCTION IS USED IN THE INFERENCE TIME TO PREDICT THE RESULTS GIVEN THE INPUT TEXT\n",
        "\n",
        "def predict(inp , model):\n",
        "    ##  TAKES INPUT AS TEXT AND THE MODEL\n",
        "\n",
        "    # CONVERT TEXT INPUT TO SEQUENCES \n",
        "    seq = tk_inp.texts_to_sequences([inp])\n",
        "    # PADDING THE SEQUENCE\n",
        "    seq = pad_sequences(seq,maxlen = 35,padding=\"post\")\n",
        "    ## INITIAL STATES FOR ENCODER\n",
        "    state = [tf.zeros(shape=(1,256)),tf.zeros(shape= (1,256))]\n",
        "\n",
        "    # SEQUENCE TO EMBEDDING\n",
        "    enc_emb  = model.layers[2](seq)\n",
        "    # PASSING EMBBEDDED SEQUENCES TO LSTM LAYER\n",
        "    enc_output,state_h,state_c= model.layers[4](enc_emb,state)\n",
        "\n",
        "    # PLACE HOLDER FOR PREDECTED WORDS\n",
        "    pred = []\n",
        "    # PLACE HOLDER FOR STATES \n",
        "    input_state = [state_h,state_c]\n",
        "    # CURRENT VECTOR TO BE PASSED TO DECODER \n",
        "    current_vec = tf.ones((1,1))\n",
        "    \n",
        "    for i in range(35): # FOR i UP TO 35 (MAX LENGTH)\n",
        "        ## CONVERT THE CURRENT VECTOR SEQUENCE WORD TO EMBEDDINGS\n",
        "        dec_emb  = model.layers[3](current_vec)\n",
        "        ## PASSING EMBEDDED VECTOR TO DECODER LSTM LAYER\n",
        "        dec_output,dec_state_h,dec_state_c = model.layers[5](dec_emb , input_state)\n",
        "        # PASSING DECODER OUTPUT TO DENSE LAYER\n",
        "        dense = model.layers[6](dec_output)\n",
        "\n",
        "        # SELECTING INDEX OF MAXIMUM DENSE OUTPUT AS CURRENT VECTOR\n",
        "        current_vec = np.argmax(dense ,axis = -1)\n",
        "        # UPDATING THE INPUT STATES\n",
        "        input_state = [dec_state_h,dec_state_c]\n",
        "\n",
        "        # APPENDING THE ACTUAL TEXT TO \"pred\" VARIABLE\n",
        "        pred.append(tk_out.index_word[current_vec[0][0]])\n",
        "        ## IF THE CURRENT VECTOR IS \"<end>\" BREAK THE LOOP\n",
        "        if tk_out.index_word[current_vec[0][0]]==\"<end>\":\n",
        "            break\n",
        "    ## RETURN THE JOINED STRING IN LIST \"pred\"\n",
        "    return \" \".join(pred)"
      ],
      "id": "3967f5b9",
      "execution_count": null,
      "outputs": []
    },
    {
      "cell_type": "markdown",
      "metadata": {
        "id": "JAa6fiPQZuB8"
      },
      "source": [
        "## PREDICTIONS ON TEST DATASET"
      ],
      "id": "JAa6fiPQZuB8"
    },
    {
      "cell_type": "code",
      "metadata": {
        "colab": {
          "base_uri": "https://localhost:8080/"
        },
        "id": "xassbnl5Ztnx",
        "outputId": "0c2dbb36-17e8-4999-c311-63673fca30da"
      },
      "source": [
        "print(\"INPUT SENTENCE ===> \",df_test.enc_input.values[19])\n",
        "print(\"PREDICTED SENTENCE ===> \",predict(df_test.enc_input.values[19],model))\n",
        "print(\"ACTUAL SENTENCE ===> \",df_test.dec_output.values[19])"
      ],
      "id": "xassbnl5Ztnx",
      "execution_count": null,
      "outputs": [
        {
          "output_type": "stream",
          "name": "stdout",
          "text": [
            "INPUT SENTENCE ===>  one day i was in time for the final train\n",
            "PREDICTED SENTENCE ===>  one day i was at the time to the train <end>\n",
            "ACTUAL SENTENCE ===>  one day i was just on time for the final train <end>\n"
          ]
        }
      ]
    },
    {
      "cell_type": "code",
      "metadata": {
        "colab": {
          "base_uri": "https://localhost:8080/"
        },
        "id": "5W5TvCvraLxR",
        "outputId": "2775bcd6-dec0-4ee5-c33f-16ce72f9de0a"
      },
      "source": [
        "print(\"INPUT SENTENCE ===> \",df_test.enc_input.values[50])\n",
        "print(\"PREDICTED SENTENCE ===> \",predict(df_test.enc_input.values[50],model))\n",
        "print(\"ACTUAL SENTENCE ===> \",df_test.dec_output.values[50])"
      ],
      "id": "5W5TvCvraLxR",
      "execution_count": null,
      "outputs": [
        {
          "output_type": "stream",
          "name": "stdout",
          "text": [
            "INPUT SENTENCE ===>  i found that some of my firends had been here\n",
            "PREDICTED SENTENCE ===>  i found that my friend had a lot of fun <end>\n",
            "ACTUAL SENTENCE ===>  i found that some of my friends had been here <end>\n"
          ]
        }
      ]
    },
    {
      "cell_type": "markdown",
      "metadata": {
        "id": "A7o-BfiMjxR3"
      },
      "source": [
        "## Inference Time"
      ],
      "id": "A7o-BfiMjxR3"
    },
    {
      "cell_type": "code",
      "metadata": {
        "colab": {
          "base_uri": "https://localhost:8080/",
          "height": 70
        },
        "id": "FPfYEnLyjwwt",
        "outputId": "547b2476-460b-461f-cd1c-e4d6634e4901"
      },
      "source": [
        "%%time\n",
        "predict(df_test.enc_input.values[50],model)"
      ],
      "id": "FPfYEnLyjwwt",
      "execution_count": null,
      "outputs": [
        {
          "output_type": "stream",
          "name": "stdout",
          "text": [
            "CPU times: user 120 ms, sys: 14.9 ms, total: 135 ms\n",
            "Wall time: 130 ms\n"
          ]
        },
        {
          "output_type": "execute_result",
          "data": {
            "text/plain": [
              "'i found that my friend had a lot of fun <end>'"
            ],
            "application/vnd.google.colaboratory.intrinsic+json": {
              "type": "string"
            }
          },
          "metadata": {},
          "execution_count": 34
        }
      ]
    },
    {
      "cell_type": "markdown",
      "metadata": {
        "id": "TFvYYz8zjjRT"
      },
      "source": [
        "## BELU SCORE "
      ],
      "id": "TFvYYz8zjjRT"
    },
    {
      "cell_type": "code",
      "metadata": {
        "id": "zexRbu3Uugc4"
      },
      "source": [
        "import nltk.translate.bleu_score as bleu"
      ],
      "id": "zexRbu3Uugc4",
      "execution_count": null,
      "outputs": []
    },
    {
      "cell_type": "code",
      "metadata": {
        "id": "UQRf1BZ9Dl6F",
        "colab": {
          "base_uri": "https://localhost:8080/"
        },
        "outputId": "b2e45024-6431-4606-8ac5-3d05464f478c"
      },
      "source": [
        "# VALIDATION BELU SCORE\n",
        "BLEU_val_emb = []\n",
        "test_data = df_val.loc[np.random.choice(df_val.index,size = 2000)]\n",
        "for ind,i in tqdm(test_data.iterrows(),position=0):\n",
        "    try:\n",
        "        pred = predict(str(i.enc_input),model).split()\n",
        "        act = [str(i.dec_output).split()]\n",
        "        b =bleu.sentence_bleu(act,pred)\n",
        "        BLEU_val_emb.append(b)\n",
        "    except:\n",
        "        continue"
      ],
      "id": "UQRf1BZ9Dl6F",
      "execution_count": null,
      "outputs": [
        {
          "output_type": "stream",
          "name": "stderr",
          "text": [
            "2000it [04:24,  7.56it/s]\n"
          ]
        }
      ]
    },
    {
      "cell_type": "code",
      "metadata": {
        "colab": {
          "base_uri": "https://localhost:8080/"
        },
        "id": "37sdVN9L9zIl",
        "outputId": "46242dfe-4777-4ecf-f6b2-48e64a252970"
      },
      "source": [
        "print(\"Train BELU Score = \",np.mean(BLEU_val_emb))"
      ],
      "id": "37sdVN9L9zIl",
      "execution_count": null,
      "outputs": [
        {
          "output_type": "stream",
          "name": "stdout",
          "text": [
            "Triain BELU Score =  0.4603018211234794\n"
          ]
        }
      ]
    }
  ]
}